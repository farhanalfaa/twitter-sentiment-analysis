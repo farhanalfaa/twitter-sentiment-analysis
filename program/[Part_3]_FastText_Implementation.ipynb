{
  "nbformat": 4,
  "nbformat_minor": 0,
  "metadata": {
    "colab": {
      "name": "[Part 3] FastText Implementation.ipynb",
      "provenance": [],
      "collapsed_sections": []
    },
    "kernelspec": {
      "name": "python3",
      "display_name": "Python 3"
    }
  },
  "cells": [
    {
      "cell_type": "markdown",
      "metadata": {
        "id": "AEMAGkcgpOnY",
        "colab_type": "text"
      },
      "source": [
        "### **Clone Fasttext Repo on Github**"
      ]
    },
    {
      "cell_type": "code",
      "metadata": {
        "id": "6kAYa1NyozWY",
        "colab_type": "code",
        "outputId": "b1102b12-9dad-48b8-8f52-b9339431b3db",
        "colab": {
          "base_uri": "https://localhost:8080/",
          "height": 136
        }
      },
      "source": [
        "!git clone https://github.com/facebookresearch/fastText.git"
      ],
      "execution_count": 1,
      "outputs": [
        {
          "output_type": "stream",
          "text": [
            "Cloning into 'fastText'...\n",
            "remote: Enumerating objects: 14, done.\u001b[K\n",
            "remote: Counting objects: 100% (14/14), done.\u001b[K\n",
            "remote: Compressing objects: 100% (12/12), done.\u001b[K\n",
            "remote: Total 3840 (delta 1), reused 7 (delta 1), pack-reused 3826\u001b[K\n",
            "Receiving objects: 100% (3840/3840), 8.21 MiB | 25.72 MiB/s, done.\n",
            "Resolving deltas: 100% (2410/2410), done.\n"
          ],
          "name": "stdout"
        }
      ]
    },
    {
      "cell_type": "code",
      "metadata": {
        "id": "N6dgx4_G1GmH",
        "colab_type": "code",
        "colab": {
          "base_uri": "https://localhost:8080/",
          "height": 34
        },
        "outputId": "4115c71e-3abb-4fae-a540-71486c83ef82"
      },
      "source": [
        "cd fastText"
      ],
      "execution_count": 2,
      "outputs": [
        {
          "output_type": "stream",
          "text": [
            "/content/fastText\n"
          ],
          "name": "stdout"
        }
      ]
    },
    {
      "cell_type": "code",
      "metadata": {
        "id": "L2lkWmxy1DiH",
        "colab_type": "code",
        "colab": {
          "base_uri": "https://localhost:8080/",
          "height": 275
        },
        "outputId": "51768d8e-eec8-4922-80f4-fe351f12ee5e"
      },
      "source": [
        "!make"
      ],
      "execution_count": 3,
      "outputs": [
        {
          "output_type": "stream",
          "text": [
            "c++ -pthread -std=c++11 -march=native -O3 -funroll-loops -DNDEBUG -c src/args.cc\n",
            "c++ -pthread -std=c++11 -march=native -O3 -funroll-loops -DNDEBUG -c src/autotune.cc\n",
            "c++ -pthread -std=c++11 -march=native -O3 -funroll-loops -DNDEBUG -c src/matrix.cc\n",
            "c++ -pthread -std=c++11 -march=native -O3 -funroll-loops -DNDEBUG -c src/dictionary.cc\n",
            "c++ -pthread -std=c++11 -march=native -O3 -funroll-loops -DNDEBUG -c src/loss.cc\n",
            "c++ -pthread -std=c++11 -march=native -O3 -funroll-loops -DNDEBUG -c src/productquantizer.cc\n",
            "c++ -pthread -std=c++11 -march=native -O3 -funroll-loops -DNDEBUG -c src/densematrix.cc\n",
            "c++ -pthread -std=c++11 -march=native -O3 -funroll-loops -DNDEBUG -c src/quantmatrix.cc\n",
            "c++ -pthread -std=c++11 -march=native -O3 -funroll-loops -DNDEBUG -c src/vector.cc\n",
            "c++ -pthread -std=c++11 -march=native -O3 -funroll-loops -DNDEBUG -c src/model.cc\n",
            "c++ -pthread -std=c++11 -march=native -O3 -funroll-loops -DNDEBUG -c src/utils.cc\n",
            "c++ -pthread -std=c++11 -march=native -O3 -funroll-loops -DNDEBUG -c src/meter.cc\n",
            "c++ -pthread -std=c++11 -march=native -O3 -funroll-loops -DNDEBUG -c src/fasttext.cc\n",
            "c++ -pthread -std=c++11 -march=native -O3 -funroll-loops -DNDEBUG args.o autotune.o matrix.o dictionary.o loss.o productquantizer.o densematrix.o quantmatrix.o vector.o model.o utils.o meter.o fasttext.o src/main.cc -o fasttext\n"
          ],
          "name": "stdout"
        }
      ]
    },
    {
      "cell_type": "markdown",
      "metadata": {
        "id": "ki5UZnr098ft",
        "colab_type": "text"
      },
      "source": [
        "### **Google Drive API**"
      ]
    },
    {
      "cell_type": "code",
      "metadata": {
        "id": "cdK55lY89-5F",
        "colab_type": "code",
        "outputId": "7f87eb40-c090-4078-86e5-e602bfc7801b",
        "colab": {
          "base_uri": "https://localhost:8080/",
          "height": 122
        }
      },
      "source": [
        "from google.colab import drive\n",
        "drive.mount('/content/drive')"
      ],
      "execution_count": 4,
      "outputs": [
        {
          "output_type": "stream",
          "text": [
            "Go to this URL in a browser: https://accounts.google.com/o/oauth2/auth?client_id=947318989803-6bn6qk8qdgf4n4g3pfee6491hc0brc4i.apps.googleusercontent.com&redirect_uri=urn%3aietf%3awg%3aoauth%3a2.0%3aoob&response_type=code&scope=email%20https%3a%2f%2fwww.googleapis.com%2fauth%2fdocs.test%20https%3a%2f%2fwww.googleapis.com%2fauth%2fdrive%20https%3a%2f%2fwww.googleapis.com%2fauth%2fdrive.photos.readonly%20https%3a%2f%2fwww.googleapis.com%2fauth%2fpeopleapi.readonly\n",
            "\n",
            "Enter your authorization code:\n",
            "··········\n",
            "Mounted at /content/drive\n"
          ],
          "name": "stdout"
        }
      ]
    },
    {
      "cell_type": "markdown",
      "metadata": {
        "id": "EOYlD9JrpWU-",
        "colab_type": "text"
      },
      "source": [
        "### **Import Library**"
      ]
    },
    {
      "cell_type": "code",
      "metadata": {
        "id": "-7wOgporphy3",
        "colab_type": "code",
        "outputId": "39ebf8ed-e19d-4d44-adb7-6acf94c76c9f",
        "colab": {
          "base_uri": "https://localhost:8080/",
          "height": 71
        }
      },
      "source": [
        "import pandas as pd\n",
        "import numpy as np\n",
        "import seaborn as sns\n",
        "import matplotlib.pyplot as plt\n",
        "import time\n",
        "import os"
      ],
      "execution_count": 5,
      "outputs": [
        {
          "output_type": "stream",
          "text": [
            "/usr/local/lib/python3.6/dist-packages/statsmodels/tools/_testing.py:19: FutureWarning: pandas.util.testing is deprecated. Use the functions in the public API at pandas.testing instead.\n",
            "  import pandas.util.testing as tm\n"
          ],
          "name": "stderr"
        }
      ]
    },
    {
      "cell_type": "markdown",
      "metadata": {
        "id": "xd12MbwmJxAK",
        "colab_type": "text"
      },
      "source": [
        "### **Load Dataset**"
      ]
    },
    {
      "cell_type": "code",
      "metadata": {
        "id": "g00-DVmWDzG7",
        "colab_type": "code",
        "colab": {}
      },
      "source": [
        "train = pd.read_excel('/content/drive/My Drive/Tugas_Akhir/dataset/train.xlsx', index_col=0)\n",
        "test  = pd.read_excel('/content/drive/My Drive/Tugas_Akhir/dataset/test.xlsx', index_col=0)"
      ],
      "execution_count": 0,
      "outputs": []
    },
    {
      "cell_type": "markdown",
      "metadata": {
        "id": "HPt6LVcEujOR",
        "colab_type": "text"
      },
      "source": [
        "**Write into .txt File**"
      ]
    },
    {
      "cell_type": "code",
      "metadata": {
        "id": "sm1P5PTOuiXa",
        "colab_type": "code",
        "colab": {}
      },
      "source": [
        "file = open('train.txt', 'w+')\n",
        "\n",
        "for i in train.index:\n",
        "  line = '_label_'+str(train['label'][i])+' '+train['text'][i]\n",
        "  file.write(line+'\\n')"
      ],
      "execution_count": 0,
      "outputs": []
    },
    {
      "cell_type": "code",
      "metadata": {
        "id": "3BqGks2avU9t",
        "colab_type": "code",
        "colab": {}
      },
      "source": [
        "file = open('test.txt', 'w+')\n",
        "\n",
        "for i in test.index:\n",
        "  line = test['text'][i]\n",
        "  file.write(line+'\\n')"
      ],
      "execution_count": 0,
      "outputs": []
    },
    {
      "cell_type": "markdown",
      "metadata": {
        "id": "6H6ozegUvwd1",
        "colab_type": "text"
      },
      "source": [
        "### **Pre-Trained Model**"
      ]
    },
    {
      "cell_type": "code",
      "metadata": {
        "id": "h4tzBW0FIxS8",
        "colab_type": "code",
        "colab": {}
      },
      "source": [
        "from gensim.corpora import WikiCorpus\n",
        "\n",
        "dataset = WikiCorpus('/content/drive/My Drive/Tugas_Akhir/idwiki-latest-pages-articles.xml.bz2', lemmatize=False, dictionary={})"
      ],
      "execution_count": 0,
      "outputs": []
    },
    {
      "cell_type": "code",
      "metadata": {
        "id": "1EoVRjqlQT5g",
        "colab_type": "code",
        "outputId": "45eb47be-bb82-4919-e89d-3c1d0d3c38c5",
        "colab": {
          "base_uri": "https://localhost:8080/",
          "height": 34
        }
      },
      "source": [
        "start_time = time.time()\n",
        "\n",
        "with open(\"wiki-id-formatted.txt\", 'w', encoding=\"utf8\") as output:\n",
        "  counter = 0\n",
        "  for text in dataset.get_texts():\n",
        "    output.write(' '.join(text)+\"\\n\")\n",
        "    counter = counter + 1\n",
        "    if counter > 100000: # Hanya mengambil 100,000 artikel pertama\n",
        "      break\n",
        "\n",
        "print('-- %s seconds --' %(time.time() - start_time))"
      ],
      "execution_count": 11,
      "outputs": [
        {
          "output_type": "stream",
          "text": [
            "-- 481.5938606262207 seconds --\n"
          ],
          "name": "stdout"
        }
      ]
    },
    {
      "cell_type": "code",
      "metadata": {
        "id": "w47JEMuTmJN3",
        "colab_type": "code",
        "colab": {
          "base_uri": "https://localhost:8080/",
          "height": 85
        },
        "outputId": "75e07e62-95bc-4c6e-b886-d91e967fa63b"
      },
      "source": [
        "!./fasttext skipgram -input wiki-id-formatted.txt -output wiki_model"
      ],
      "execution_count": 14,
      "outputs": [
        {
          "output_type": "stream",
          "text": [
            "Read 43M words\n",
            "Number of words:  199831\n",
            "Number of labels: 0\n",
            "Progress: 100.0% words/sec/thread:    6179 lr:  0.000000 avg.loss:  0.960200 ETA:   0h 0m 0s\n"
          ],
          "name": "stdout"
        }
      ]
    },
    {
      "cell_type": "markdown",
      "metadata": {
        "id": "xXnCH5T0IZiQ",
        "colab_type": "text"
      },
      "source": [
        "### **Model Training**"
      ]
    },
    {
      "cell_type": "code",
      "metadata": {
        "id": "l2SYuMPlWLeZ",
        "colab_type": "code",
        "outputId": "548989a2-6070-4051-db78-c5fd9a4ff1dc",
        "colab": {
          "base_uri": "https://localhost:8080/",
          "height": 85
        }
      },
      "source": [
        "!./fasttext supervised -input ../fastText/train.txt -output ft_model -label _label_ -dim 100 -lr 1.0 -lrUpdateRate 50 -epoch 10 -loss hs -pretrainedVectors wiki_model.vec"
      ],
      "execution_count": 18,
      "outputs": [
        {
          "output_type": "stream",
          "text": [
            "\rRead 0M words\n",
            "Number of words:  6561\n",
            "Number of labels: 3\n",
            "Progress: 100.0% words/sec/thread:  376968 lr:  0.000000 avg.loss:  0.372314 ETA:   0h 0m 0s\n"
          ],
          "name": "stdout"
        }
      ]
    },
    {
      "cell_type": "markdown",
      "metadata": {
        "id": "0ihg0q2NxAke",
        "colab_type": "text"
      },
      "source": [
        "### **Save Model**\n"
      ]
    },
    {
      "cell_type": "code",
      "metadata": {
        "id": "c-wRN8_xz8Un",
        "colab_type": "code",
        "colab": {}
      },
      "source": [
        "from google.colab import files\n",
        "\n",
        "files.download('ft_model.bin')\n",
        "files.download('ft_model.vec')"
      ],
      "execution_count": 0,
      "outputs": []
    },
    {
      "cell_type": "markdown",
      "metadata": {
        "id": "oYG8-BKV6Ofr",
        "colab_type": "text"
      },
      "source": [
        "### **Export to Google Drive**"
      ]
    },
    {
      "cell_type": "code",
      "metadata": {
        "id": "gKg7qWmO5-2e",
        "colab_type": "code",
        "colab": {}
      },
      "source": [
        "!cp ft_model.vec '/content/drive/My Drive/Tugas_Akhir/model/'\n",
        "!cp ft_model.bin '/content/drive/My Drive/Tugas_Akhir/model/'"
      ],
      "execution_count": 0,
      "outputs": []
    }
  ]
}