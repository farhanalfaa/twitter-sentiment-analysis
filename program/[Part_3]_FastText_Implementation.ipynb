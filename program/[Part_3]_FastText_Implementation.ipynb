{
  "nbformat": 4,
  "nbformat_minor": 0,
  "metadata": {
    "colab": {
      "name": "[Part 3] FastText Implementation.ipynb",
      "provenance": [],
      "collapsed_sections": []
    },
    "kernelspec": {
      "name": "python3",
      "display_name": "Python 3"
    }
  },
  "cells": [
    {
      "cell_type": "markdown",
      "metadata": {
        "id": "AEMAGkcgpOnY",
        "colab_type": "text"
      },
      "source": [
        "### **Clone Fasttext Repo on Github**"
      ]
    },
    {
      "cell_type": "code",
      "metadata": {
        "id": "6kAYa1NyozWY",
        "colab_type": "code",
        "outputId": "32afed35-f6dd-46ab-f1cd-e89e3924faab",
        "colab": {
          "base_uri": "https://localhost:8080/",
          "height": 102
        }
      },
      "source": [
        "!git clone https://github.com/facebookresearch/fastText.git"
      ],
      "execution_count": 2,
      "outputs": [
        {
          "output_type": "stream",
          "text": [
            "Cloning into 'fastText'...\n",
            "remote: Enumerating objects: 3826, done.\u001b[K\n",
            "remote: Total 3826 (delta 0), reused 0 (delta 0), pack-reused 3826\u001b[K\n",
            "Receiving objects: 100% (3826/3826), 8.20 MiB | 5.60 MiB/s, done.\n",
            "Resolving deltas: 100% (2409/2409), done.\n"
          ],
          "name": "stdout"
        }
      ]
    },
    {
      "cell_type": "code",
      "metadata": {
        "id": "kvLR-08cpD6Z",
        "colab_type": "code",
        "outputId": "643b4c8b-c6e2-4a0d-e8d2-9c058cb76073",
        "colab": {
          "base_uri": "https://localhost:8080/",
          "height": 34
        }
      },
      "source": [
        "cd fastText"
      ],
      "execution_count": 3,
      "outputs": [
        {
          "output_type": "stream",
          "text": [
            "/content/fastText\n"
          ],
          "name": "stdout"
        }
      ]
    },
    {
      "cell_type": "code",
      "metadata": {
        "id": "ZqOv04fepE9p",
        "colab_type": "code",
        "outputId": "207de089-0c88-4505-a683-c514cf15775e",
        "colab": {
          "base_uri": "https://localhost:8080/",
          "height": 275
        }
      },
      "source": [
        "!make"
      ],
      "execution_count": 4,
      "outputs": [
        {
          "output_type": "stream",
          "text": [
            "c++ -pthread -std=c++11 -march=native -O3 -funroll-loops -DNDEBUG -c src/args.cc\n",
            "c++ -pthread -std=c++11 -march=native -O3 -funroll-loops -DNDEBUG -c src/autotune.cc\n",
            "c++ -pthread -std=c++11 -march=native -O3 -funroll-loops -DNDEBUG -c src/matrix.cc\n",
            "c++ -pthread -std=c++11 -march=native -O3 -funroll-loops -DNDEBUG -c src/dictionary.cc\n",
            "c++ -pthread -std=c++11 -march=native -O3 -funroll-loops -DNDEBUG -c src/loss.cc\n",
            "c++ -pthread -std=c++11 -march=native -O3 -funroll-loops -DNDEBUG -c src/productquantizer.cc\n",
            "c++ -pthread -std=c++11 -march=native -O3 -funroll-loops -DNDEBUG -c src/densematrix.cc\n",
            "c++ -pthread -std=c++11 -march=native -O3 -funroll-loops -DNDEBUG -c src/quantmatrix.cc\n",
            "c++ -pthread -std=c++11 -march=native -O3 -funroll-loops -DNDEBUG -c src/vector.cc\n",
            "c++ -pthread -std=c++11 -march=native -O3 -funroll-loops -DNDEBUG -c src/model.cc\n",
            "c++ -pthread -std=c++11 -march=native -O3 -funroll-loops -DNDEBUG -c src/utils.cc\n",
            "c++ -pthread -std=c++11 -march=native -O3 -funroll-loops -DNDEBUG -c src/meter.cc\n",
            "c++ -pthread -std=c++11 -march=native -O3 -funroll-loops -DNDEBUG -c src/fasttext.cc\n",
            "c++ -pthread -std=c++11 -march=native -O3 -funroll-loops -DNDEBUG args.o autotune.o matrix.o dictionary.o loss.o productquantizer.o densematrix.o quantmatrix.o vector.o model.o utils.o meter.o fasttext.o src/main.cc -o fasttext\n"
          ],
          "name": "stdout"
        }
      ]
    },
    {
      "cell_type": "markdown",
      "metadata": {
        "id": "ki5UZnr098ft",
        "colab_type": "text"
      },
      "source": [
        "### **Google Drive API**"
      ]
    },
    {
      "cell_type": "code",
      "metadata": {
        "id": "cdK55lY89-5F",
        "colab_type": "code",
        "colab": {
          "base_uri": "https://localhost:8080/",
          "height": 122
        },
        "outputId": "a733d8bb-8733-4268-d898-4950757b2ce1"
      },
      "source": [
        "from google.colab import drive\n",
        "drive.mount('/content/drive')"
      ],
      "execution_count": 5,
      "outputs": [
        {
          "output_type": "stream",
          "text": [
            "Go to this URL in a browser: https://accounts.google.com/o/oauth2/auth?client_id=947318989803-6bn6qk8qdgf4n4g3pfee6491hc0brc4i.apps.googleusercontent.com&redirect_uri=urn%3aietf%3awg%3aoauth%3a2.0%3aoob&response_type=code&scope=email%20https%3a%2f%2fwww.googleapis.com%2fauth%2fdocs.test%20https%3a%2f%2fwww.googleapis.com%2fauth%2fdrive%20https%3a%2f%2fwww.googleapis.com%2fauth%2fdrive.photos.readonly%20https%3a%2f%2fwww.googleapis.com%2fauth%2fpeopleapi.readonly\n",
            "\n",
            "Enter your authorization code:\n",
            "··········\n",
            "Mounted at /content/drive\n"
          ],
          "name": "stdout"
        }
      ]
    },
    {
      "cell_type": "markdown",
      "metadata": {
        "id": "EOYlD9JrpWU-",
        "colab_type": "text"
      },
      "source": [
        "### **Import Library**"
      ]
    },
    {
      "cell_type": "code",
      "metadata": {
        "id": "-7wOgporphy3",
        "colab_type": "code",
        "outputId": "d5928c77-12ff-4046-cde6-adb6910664a5",
        "colab": {
          "base_uri": "https://localhost:8080/",
          "height": 71
        }
      },
      "source": [
        "import pandas as pd\n",
        "import numpy as np\n",
        "import seaborn as sn\n",
        "import matplotlib.pyplot as plt\n",
        "import time\n",
        "import os"
      ],
      "execution_count": 6,
      "outputs": [
        {
          "output_type": "stream",
          "text": [
            "/usr/local/lib/python3.6/dist-packages/statsmodels/tools/_testing.py:19: FutureWarning: pandas.util.testing is deprecated. Use the functions in the public API at pandas.testing instead.\n",
            "  import pandas.util.testing as tm\n"
          ],
          "name": "stderr"
        }
      ]
    },
    {
      "cell_type": "markdown",
      "metadata": {
        "id": "6H6ozegUvwd1",
        "colab_type": "text"
      },
      "source": [
        "### **Model Training**"
      ]
    },
    {
      "cell_type": "code",
      "metadata": {
        "id": "h4tzBW0FIxS8",
        "colab_type": "code",
        "colab": {}
      },
      "source": [
        "# from gensim.corpora import WikiCorpus\n",
        "\n",
        "# dataset = WikiCorpus('/content/drive/My Drive/idwiki-latest-pages-articles.xml.bz2', lemmatize=False, dictionary={})"
      ],
      "execution_count": 0,
      "outputs": []
    },
    {
      "cell_type": "code",
      "metadata": {
        "id": "1EoVRjqlQT5g",
        "colab_type": "code",
        "colab": {}
      },
      "source": [
        "# start_time = time.time()\n",
        "\n",
        "# with open(\"wiki-id-formatted.txt\", 'w', encoding=\"utf8\") as output:\n",
        "#   counter = 0\n",
        "#     for text in dataset.get_texts():\n",
        "#       output.write(' '.join(text)+\"\\n\")\n",
        "#       counter = counter + 1\n",
        "#       if counter > 100000: # Hanya mengambil 100,000 artikel pertama\n",
        "#         break\n",
        "\n",
        "# print('-- %s seconds --' %(time.time() - start_time))"
      ],
      "execution_count": 0,
      "outputs": []
    },
    {
      "cell_type": "code",
      "metadata": {
        "id": "auesHB12LIyQ",
        "colab_type": "code",
        "colab": {}
      },
      "source": [
        "# wiki_model = fasttext.train_unsupervised('wiki-id-formatted.txt', model='skipgram')\n",
        "\n",
        "# print(\"--- %s seconds ---\" % (time.time() - start_time))"
      ],
      "execution_count": 0,
      "outputs": []
    },
    {
      "cell_type": "code",
      "metadata": {
        "id": "sG30dTPbBvMI",
        "colab_type": "code",
        "colab": {}
      },
      "source": [
        "# train = '/content/drive/My Drive/Tugas_Akhir/dataset/train.txt'\n",
        "# test  = '/content/drive/My Drive/Tugas_Akhir/dataset/test.txt'\n",
        "# wiki  = '/content/drive/My Drive/Tugas_Akhir/dataset/wiki-id-formatted.txt'"
      ],
      "execution_count": 0,
      "outputs": []
    },
    {
      "cell_type": "code",
      "metadata": {
        "id": "glz2IBWasWhi",
        "colab_type": "code",
        "colab": {}
      },
      "source": [
        "# start_time = time.time()\n",
        "\n",
        "# !./fasttext skipgram -input wiki -output wiki_model\n",
        "\n",
        "# print(\"--- %s seconds ---\" % (time.time() - start_time))"
      ],
      "execution_count": 0,
      "outputs": []
    },
    {
      "cell_type": "code",
      "metadata": {
        "id": "l2SYuMPlWLeZ",
        "colab_type": "code",
        "outputId": "7a760971-2b07-447b-dd1c-ac9a3021e27e",
        "colab": {
          "base_uri": "https://localhost:8080/",
          "height": 85
        }
      },
      "source": [
        "!./fasttext supervised -input ../fastText/train.txt -output ft_model -label _label_ -dim 300 -lr 1.0 -lrUpdateRate 200 -epoch 50 -loss hs -ws 10"
      ],
      "execution_count": 46,
      "outputs": [
        {
          "output_type": "stream",
          "text": [
            "\rRead 0M words\n",
            "Number of words:  6522\n",
            "Number of labels: 3\n",
            "\rProgress:  25.3% words/sec/thread:  280694 lr:  0.747272 avg.loss:  0.422010 ETA:   0h 0m 0s\rProgress:  52.8% words/sec/thread:  293214 lr:  0.472103 avg.loss:  0.247205 ETA:   0h 0m 0s\rProgress:  80.2% words/sec/thread:  297073 lr:  0.198026 avg.loss:  0.175343 ETA:   0h 0m 0s\rProgress: 100.0% words/sec/thread:  277926 lr: -0.000228 avg.loss:  0.147985 ETA:   0h 0m 0s\rProgress: 100.0% words/sec/thread:  277815 lr:  0.000000 avg.loss:  0.147985 ETA:   0h 0m 0s\n"
          ],
          "name": "stdout"
        }
      ]
    },
    {
      "cell_type": "markdown",
      "metadata": {
        "id": "hR_ar90dvzN7",
        "colab_type": "text"
      },
      "source": [
        "### **Model Predict**"
      ]
    },
    {
      "cell_type": "code",
      "metadata": {
        "id": "YjxTbKkkv7y4",
        "colab_type": "code",
        "colab": {}
      },
      "source": [
        "# !./fasttext ../fastText/model2.vec\n",
        "\n",
        "# !./fasttext print-word-vectors model.bin < ../fastText/test.txt\n",
        "\n",
        "# !./fasttext nn model.bin\n",
        "\n",
        "# y_pred_prob = !./fasttext predict-prob model.bin ../valid.txt\n",
        "\n",
        "# y_pred = !./fasttext predict ../fastText/model2.bin ../test.txt"
      ],
      "execution_count": 0,
      "outputs": []
    },
    {
      "cell_type": "code",
      "metadata": {
        "id": "oVxpOssHpIl3",
        "colab_type": "code",
        "colab": {}
      },
      "source": [
        "y_pred = !./fasttext predict ft_model.bin ../fastText/test.txt"
      ],
      "execution_count": 0,
      "outputs": []
    },
    {
      "cell_type": "code",
      "metadata": {
        "id": "g00-DVmWDzG7",
        "colab_type": "code",
        "colab": {}
      },
      "source": [
        "train = pd.read_excel('/content/drive/My Drive/Tugas_Akhir/dataset/train.xlsx', index_col=0)\n",
        "test  = pd.read_excel('/content/drive/My Drive/Tugas_Akhir/dataset/test.xlsx', index_col=0)"
      ],
      "execution_count": 0,
      "outputs": []
    },
    {
      "cell_type": "code",
      "metadata": {
        "id": "GpIMIeS8EVNc",
        "colab_type": "code",
        "colab": {
          "base_uri": "https://localhost:8080/",
          "height": 170
        },
        "outputId": "01168288-ad6a-4c4c-ebd2-fccd97578975"
      },
      "source": [
        "train.dropna(inplace=True)\n",
        "train.reset_index(drop=True, inplace=True)\n",
        "train.info()"
      ],
      "execution_count": 50,
      "outputs": [
        {
          "output_type": "stream",
          "text": [
            "<class 'pandas.core.frame.DataFrame'>\n",
            "RangeIndex: 2900 entries, 0 to 2899\n",
            "Data columns (total 2 columns):\n",
            " #   Column  Non-Null Count  Dtype \n",
            "---  ------  --------------  ----- \n",
            " 0   text    2900 non-null   object\n",
            " 1   label   2900 non-null   int64 \n",
            "dtypes: int64(1), object(1)\n",
            "memory usage: 45.4+ KB\n"
          ],
          "name": "stdout"
        }
      ]
    },
    {
      "cell_type": "code",
      "metadata": {
        "id": "MbaOrcXTEX-P",
        "colab_type": "code",
        "colab": {
          "base_uri": "https://localhost:8080/",
          "height": 170
        },
        "outputId": "82126b6c-3ae3-41c7-854a-00eaf4990d4e"
      },
      "source": [
        "test.dropna(inplace=True)\n",
        "test.reset_index(drop=True, inplace=True)\n",
        "test.info()"
      ],
      "execution_count": 51,
      "outputs": [
        {
          "output_type": "stream",
          "text": [
            "<class 'pandas.core.frame.DataFrame'>\n",
            "RangeIndex: 729 entries, 0 to 728\n",
            "Data columns (total 2 columns):\n",
            " #   Column  Non-Null Count  Dtype \n",
            "---  ------  --------------  ----- \n",
            " 0   text    729 non-null    object\n",
            " 1   label   729 non-null    int64 \n",
            "dtypes: int64(1), object(1)\n",
            "memory usage: 11.5+ KB\n"
          ],
          "name": "stdout"
        }
      ]
    },
    {
      "cell_type": "code",
      "metadata": {
        "id": "lIpvUx0yBXlL",
        "colab_type": "code",
        "colab": {}
      },
      "source": [
        "y_test = '_label_' + test['label'].astype(str)"
      ],
      "execution_count": 0,
      "outputs": []
    },
    {
      "cell_type": "code",
      "metadata": {
        "id": "XZeHNU_KwFZW",
        "colab_type": "code",
        "outputId": "cbc8eef3-23d3-453e-cfd4-2534f61b88d6",
        "colab": {
          "base_uri": "https://localhost:8080/",
          "height": 68
        }
      },
      "source": [
        "from sklearn.metrics import confusion_matrix\n",
        "\n",
        "cm = confusion_matrix(y_test, y_pred)\n",
        "cm"
      ],
      "execution_count": 53,
      "outputs": [
        {
          "output_type": "execute_result",
          "data": {
            "text/plain": [
              "array([[189,  20,  18],\n",
              "       [ 32, 223,  37],\n",
              "       [ 18,  10, 182]])"
            ]
          },
          "metadata": {
            "tags": []
          },
          "execution_count": 53
        }
      ]
    },
    {
      "cell_type": "code",
      "metadata": {
        "id": "mw6FiaaSDyrq",
        "colab_type": "code",
        "outputId": "cd793952-45ec-47bb-8578-e62136f5d85c",
        "colab": {
          "base_uri": "https://localhost:8080/",
          "height": 34
        }
      },
      "source": [
        "from sklearn.metrics import accuracy_score\n",
        "\n",
        "accuracy_score(y_test, y_pred)"
      ],
      "execution_count": 54,
      "outputs": [
        {
          "output_type": "execute_result",
          "data": {
            "text/plain": [
              "0.8148148148148148"
            ]
          },
          "metadata": {
            "tags": []
          },
          "execution_count": 54
        }
      ]
    },
    {
      "cell_type": "code",
      "metadata": {
        "id": "tRCpU34qwFSn",
        "colab_type": "code",
        "colab": {}
      },
      "source": [
        "y_pred_list = []\n",
        "\n",
        "for i in range(len(y_pred)):\n",
        "  y_pred_list.append(y_pred[i])\n"
      ],
      "execution_count": 0,
      "outputs": []
    },
    {
      "cell_type": "code",
      "metadata": {
        "id": "fMUqziFmwiip",
        "colab_type": "code",
        "colab": {}
      },
      "source": [
        "y_pred_series = pd.Series(y_pred_list)"
      ],
      "execution_count": 0,
      "outputs": []
    },
    {
      "cell_type": "code",
      "metadata": {
        "id": "nCSMvN2sw8ja",
        "colab_type": "code",
        "colab": {
          "base_uri": "https://localhost:8080/",
          "height": 34
        },
        "outputId": "3555d729-c313-42ac-feab-186b0f0da15d"
      },
      "source": [
        "len(y_pred_series)"
      ],
      "execution_count": 57,
      "outputs": [
        {
          "output_type": "execute_result",
          "data": {
            "text/plain": [
              "729"
            ]
          },
          "metadata": {
            "tags": []
          },
          "execution_count": 57
        }
      ]
    },
    {
      "cell_type": "markdown",
      "metadata": {
        "id": "0ihg0q2NxAke",
        "colab_type": "text"
      },
      "source": [
        "**Concat Series**\n"
      ]
    },
    {
      "cell_type": "code",
      "metadata": {
        "id": "eDsx_VlJxCd4",
        "colab_type": "code",
        "colab": {}
      },
      "source": [
        "data = pd.concat([test, y_pred_series], axis=1)"
      ],
      "execution_count": 0,
      "outputs": []
    },
    {
      "cell_type": "code",
      "metadata": {
        "id": "En55E1h1xMob",
        "colab_type": "code",
        "outputId": "c8ab90ca-e145-45eb-9218-63abb9c9eca9",
        "colab": {
          "base_uri": "https://localhost:8080/",
          "height": 419
        }
      },
      "source": [
        "data.head(100)"
      ],
      "execution_count": 40,
      "outputs": [
        {
          "output_type": "execute_result",
          "data": {
            "text/html": [
              "<div>\n",
              "<style scoped>\n",
              "    .dataframe tbody tr th:only-of-type {\n",
              "        vertical-align: middle;\n",
              "    }\n",
              "\n",
              "    .dataframe tbody tr th {\n",
              "        vertical-align: top;\n",
              "    }\n",
              "\n",
              "    .dataframe thead th {\n",
              "        text-align: right;\n",
              "    }\n",
              "</style>\n",
              "<table border=\"1\" class=\"dataframe\">\n",
              "  <thead>\n",
              "    <tr style=\"text-align: right;\">\n",
              "      <th></th>\n",
              "      <th>text</th>\n",
              "      <th>label</th>\n",
              "      <th>0</th>\n",
              "    </tr>\n",
              "  </thead>\n",
              "  <tbody>\n",
              "    <tr>\n",
              "      <th>0</th>\n",
              "      <td>kali masyarakat nusantara dampak wabah sakit l...</td>\n",
              "      <td>-1</td>\n",
              "      <td>_label_-1</td>\n",
              "    </tr>\n",
              "    <tr>\n",
              "      <th>1</th>\n",
              "      <td>mas th bangsa indonesia hny pintu gerbang merd...</td>\n",
              "      <td>0</td>\n",
              "      <td>_label_0</td>\n",
              "    </tr>\n",
              "    <tr>\n",
              "      <th>2</th>\n",
              "      <td>nemu orang paruh baya alami ganggu mental tida...</td>\n",
              "      <td>1</td>\n",
              "      <td>_label_1</td>\n",
              "    </tr>\n",
              "    <tr>\n",
              "      <th>3</th>\n",
              "      <td>bosan kyk</td>\n",
              "      <td>-1</td>\n",
              "      <td>_label_-1</td>\n",
              "    </tr>\n",
              "    <tr>\n",
              "      <th>4</th>\n",
              "      <td>program stimulus tidak implementasi khawatir m...</td>\n",
              "      <td>-1</td>\n",
              "      <td>_label_-1</td>\n",
              "    </tr>\n",
              "    <tr>\n",
              "      <th>...</th>\n",
              "      <td>...</td>\n",
              "      <td>...</td>\n",
              "      <td>...</td>\n",
              "    </tr>\n",
              "    <tr>\n",
              "      <th>95</th>\n",
              "      <td>pasuk indonesia overthinking</td>\n",
              "      <td>0</td>\n",
              "      <td>_label_0</td>\n",
              "    </tr>\n",
              "    <tr>\n",
              "      <th>96</th>\n",
              "      <td>pake duhh harap poin emang dah dapet poin fifa...</td>\n",
              "      <td>-1</td>\n",
              "      <td>_label_0</td>\n",
              "    </tr>\n",
              "    <tr>\n",
              "      <th>97</th>\n",
              "      <td>kali ngirim lamar kerja hilihh</td>\n",
              "      <td>0</td>\n",
              "      <td>_label_0</td>\n",
              "    </tr>\n",
              "    <tr>\n",
              "      <th>98</th>\n",
              "      <td>tebak lokesyen</td>\n",
              "      <td>0</td>\n",
              "      <td>_label_0</td>\n",
              "    </tr>\n",
              "    <tr>\n",
              "      <th>99</th>\n",
              "      <td>goodluckk rioo prestasi</td>\n",
              "      <td>0</td>\n",
              "      <td>_label_0</td>\n",
              "    </tr>\n",
              "  </tbody>\n",
              "</table>\n",
              "<p>100 rows × 3 columns</p>\n",
              "</div>"
            ],
            "text/plain": [
              "                                                 text  label          0\n",
              "0   kali masyarakat nusantara dampak wabah sakit l...     -1  _label_-1\n",
              "1   mas th bangsa indonesia hny pintu gerbang merd...      0   _label_0\n",
              "2   nemu orang paruh baya alami ganggu mental tida...      1   _label_1\n",
              "3                                           bosan kyk     -1  _label_-1\n",
              "4   program stimulus tidak implementasi khawatir m...     -1  _label_-1\n",
              "..                                                ...    ...        ...\n",
              "95                       pasuk indonesia overthinking      0   _label_0\n",
              "96  pake duhh harap poin emang dah dapet poin fifa...     -1   _label_0\n",
              "97                     kali ngirim lamar kerja hilihh      0   _label_0\n",
              "98                                     tebak lokesyen      0   _label_0\n",
              "99                            goodluckk rioo prestasi      0   _label_0\n",
              "\n",
              "[100 rows x 3 columns]"
            ]
          },
          "metadata": {
            "tags": []
          },
          "execution_count": 40
        }
      ]
    },
    {
      "cell_type": "code",
      "metadata": {
        "id": "c-wRN8_xz8Un",
        "colab_type": "code",
        "colab": {}
      },
      "source": [
        "# from google.colab import files\n",
        "\n",
        "# data.to_excel('hasil_fasttext.xlsx') \n",
        "# files.download('hasil_fasttext.xlsx')"
      ],
      "execution_count": 0,
      "outputs": []
    },
    {
      "cell_type": "code",
      "metadata": {
        "id": "o72BY2QJwKad",
        "colab_type": "code",
        "outputId": "64b9edb2-6ac5-421a-bb1a-ab01079d88d7",
        "colab": {
          "base_uri": "https://localhost:8080/",
          "height": 347
        }
      },
      "source": [
        "df_cm = pd.DataFrame(cm)\n",
        "plt.figure(figsize=(5,5))\n",
        "sn.set(font_scale=1.4) # for label size\n",
        "\n",
        "sn.heatmap(df_cm, annot=True, annot_kws={\"size\": 18}, cbar=False, cmap='Greys').set_title('Confusion Matrix') # font size\n",
        "\n",
        "plt.show()"
      ],
      "execution_count": 21,
      "outputs": [
        {
          "output_type": "display_data",
          "data": {
            "image/png": "[encoded data removed]",
            "text/plain": [
              "<Figure size 360x360 with 1 Axes>"
            ]
          },
          "metadata": {
            "tags": [],
            "needs_background": "light"
          }
        }
      ]
    },
    {
      "cell_type": "markdown",
      "metadata": {
        "id": "uA59uSOdojT1",
        "colab_type": "text"
      },
      "source": [
        "**Keras CNN with FastText Embeddings**"
      ]
    },
    {
      "cell_type": "code",
      "metadata": {
        "id": "07gd9BRxxyw6",
        "colab_type": "code",
        "colab": {}
      },
      "source": [
        "y_train = train['label'].tolist()"
      ],
      "execution_count": 0,
      "outputs": []
    },
    {
      "cell_type": "code",
      "metadata": {
        "id": "JPdP493Ppx2r",
        "colab_type": "code",
        "colab": {
          "base_uri": "https://localhost:8080/",
          "height": 68
        },
        "outputId": "79a748d6-347a-4a8d-f191-e148e760c9aa"
      },
      "source": [
        "import os, re, csv, math, codecs\n",
        "from tqdm import tqdm\n",
        "\n",
        "print('loading word embeddings...')\n",
        "\n",
        "embeddings_index = {}\n",
        "\n",
        "f = codecs.open('ft_model.vec', encoding='utf-8')\n",
        "\n",
        "for line in tqdm(f):\n",
        "  values = line.rstrip().rsplit(' ')\n",
        "  word = values[0]\n",
        "  coefs = np.asarray(values[1:], dtype='float32')\n",
        "  embeddings_index[word] = coefs\n",
        "\n",
        "f.close()\n",
        "\n",
        "print('Found %s word vectors' %len(embeddings_index))"
      ],
      "execution_count": 58,
      "outputs": [
        {
          "output_type": "stream",
          "text": [
            "1771it [00:00, 8989.95it/s]"
          ],
          "name": "stderr"
        },
        {
          "output_type": "stream",
          "text": [
            "loading word embeddings...\n"
          ],
          "name": "stdout"
        },
        {
          "output_type": "stream",
          "text": [
            "6523it [00:00, 8562.97it/s]"
          ],
          "name": "stderr"
        },
        {
          "output_type": "stream",
          "text": [
            "Found 6523 word vectors\n"
          ],
          "name": "stdout"
        },
        {
          "output_type": "stream",
          "text": [
            "\n"
          ],
          "name": "stderr"
        }
      ]
    },
    {
      "cell_type": "code",
      "metadata": {
        "id": "4TxZB0jXvhwn",
        "colab_type": "code",
        "colab": {
          "base_uri": "https://localhost:8080/",
          "height": 51
        },
        "outputId": "60dba0a4-eda4-4ce0-9628-c2b322eb31bd"
      },
      "source": [
        "print('num train : ', train.shape[0])\n",
        "print('num test  : ', test.shape[0])"
      ],
      "execution_count": 59,
      "outputs": [
        {
          "output_type": "stream",
          "text": [
            "num train :  2900\n",
            "num test  :  729\n"
          ],
          "name": "stdout"
        }
      ]
    },
    {
      "cell_type": "code",
      "metadata": {
        "id": "QlnGxt3Nr_yT",
        "colab_type": "code",
        "colab": {}
      },
      "source": [
        "import seaborn as sns\n",
        "import matplotlib.pyplot as plt\n",
        "\n",
        "label_names = ['positive', 'neutral','negative']"
      ],
      "execution_count": 0,
      "outputs": []
    },
    {
      "cell_type": "code",
      "metadata": {
        "id": "nobCaQe1oyW4",
        "colab_type": "code",
        "colab": {
          "base_uri": "https://localhost:8080/",
          "height": 315
        },
        "outputId": "631a2985-ec1b-4823-ad70-96ee0e837011"
      },
      "source": [
        "train['doc_len'] = train['text'].apply(lambda words: len(words.split(' ')))\n",
        "\n",
        "max_seq_len = np.round(train['doc_len'].mean() + train['doc_len'].std()).astype(int)\n",
        "\n",
        "sns.distplot(train['doc_len'], hist=True, kde=True, color='b', label='doc len')\n",
        "plt.axvline(x=max_seq_len, color='k', linestyle='--', label='max len')\n",
        "plt.title('comment length')\n",
        "plt.legend()\n",
        "plt.show()"
      ],
      "execution_count": 61,
      "outputs": [
        {
          "output_type": "display_data",
          "data": {
            "image/png": "[encoded data removed]",
            "text/plain": [
              "<Figure size 432x288 with 1 Axes>"
            ]
          },
          "metadata": {
            "tags": []
          }
        }
      ]
    },
    {
      "cell_type": "code",
      "metadata": {
        "id": "j6Ek58Attyi5",
        "colab_type": "code",
        "colab": {}
      },
      "source": [
        "import keras\n",
        "from keras import optimizers\n",
        "from keras import backend as K\n",
        "from keras import regularizers\n",
        "from keras.models import Sequential\n",
        "from keras.layers import Dense, Activation, Dropout, Flatten\n",
        "from keras.layers import Embedding, Conv1D, MaxPooling1D, GlobalMaxPooling1D \n",
        "from keras.utils import plot_model\n",
        "from keras.preprocessing import sequence\n",
        "from keras.preprocessing.text import Tokenizer\n",
        "from keras.callbacks import EarlyStopping"
      ],
      "execution_count": 0,
      "outputs": []
    },
    {
      "cell_type": "code",
      "metadata": {
        "id": "V2C-Uh6grClB",
        "colab_type": "code",
        "colab": {
          "base_uri": "https://localhost:8080/",
          "height": 51
        },
        "outputId": "6f2575ad-4d9e-4ca7-b787-5968e3f7991b"
      },
      "source": [
        "raw_docs_train = train['text'].tolist()\n",
        "raw_docs_test  = test['text'].tolist()\n",
        "\n",
        "MAX_NB_WORDS = 100000\n",
        "num_classes = len(label_names)\n",
        "\n",
        "print('tokenizing input data...')\n",
        "\n",
        "tokenizer = Tokenizer(num_words=MAX_NB_WORDS,\n",
        "                      lower=True,\n",
        "                      char_level=False)\n",
        "tokenizer.fit_on_texts(raw_docs_train + raw_docs_test)\n",
        "\n",
        "word_seq_train = tokenizer.texts_to_sequences(raw_docs_train)\n",
        "word_seq_test  = tokenizer.texts_to_sequences(raw_docs_test)\n",
        "\n",
        "word_index = tokenizer.word_index\n",
        "\n",
        "print('dictionary size: ', len(word_index))\n",
        "\n",
        "word_seq_train = sequence.pad_sequences(word_seq_train, maxlen = max_seq_len)\n",
        "word_seq_test  = sequence.pad_sequences(word_seq_test, maxlen = max_seq_len)\n",
        "\n",
        "\n"
      ],
      "execution_count": 63,
      "outputs": [
        {
          "output_type": "stream",
          "text": [
            "tokenizing input data...\n",
            "dictionary size:  7567\n"
          ],
          "name": "stdout"
        }
      ]
    },
    {
      "cell_type": "code",
      "metadata": {
        "id": "fz5KWB0vtlY_",
        "colab_type": "code",
        "colab": {}
      },
      "source": [
        "batch_size = 256\n",
        "num_epochs = 8\n",
        "\n",
        "num_filters = 64\n",
        "embed_dim   = 300\n",
        "weight_decay = 1e-4"
      ],
      "execution_count": 0,
      "outputs": []
    },
    {
      "cell_type": "code",
      "metadata": {
        "id": "WUSCGmdduAao",
        "colab_type": "code",
        "colab": {
          "base_uri": "https://localhost:8080/",
          "height": 51
        },
        "outputId": "9029bcf3-bc98-41f7-f7c3-7bc3ed5e7445"
      },
      "source": [
        "print('preparing embedding matrix...')\n",
        "\n",
        "words_not_found = []\n",
        "\n",
        "nb_words = min(MAX_NB_WORDS, len(word_index))\n",
        "\n",
        "embedding_matrix = np.zeros((nb_words, embed_dim))\n",
        "\n",
        "for word, i in word_index.items():\n",
        "  if i >= nb_words:\n",
        "    continue\n",
        "  embedding_vector = embeddings_index.get(word)\n",
        "  if (embedding_vector is not None) and len(embedding_vector) > 0:\n",
        "    embedding_matrix[i] = embedding_vector\n",
        "  else:\n",
        "    words_not_found.append(word)\n",
        "\n",
        "print('number of null word embeddings: %d' %np.sum(np.sum(embedding_matrix, axis=1) == 0))"
      ],
      "execution_count": 65,
      "outputs": [
        {
          "output_type": "stream",
          "text": [
            "preparing embedding matrix...\n",
            "number of null word embeddings: 1046\n"
          ],
          "name": "stdout"
        }
      ]
    },
    {
      "cell_type": "code",
      "metadata": {
        "id": "9AzCOXlpue63",
        "colab_type": "code",
        "colab": {
          "base_uri": "https://localhost:8080/",
          "height": 51
        },
        "outputId": "d975c7f6-cca7-4163-f5f4-ccf6c7680d2e"
      },
      "source": [
        "print('sample words not found: ', np.random.choice(words_not_found, 10))"
      ],
      "execution_count": 66,
      "outputs": [
        {
          "output_type": "stream",
          "text": [
            "sample words not found:  ['pelit' 'y' 'menkeunya' 'ayan' 'sikh' 'iluminati' 'ziyadatul' 'endang'\n",
            " 'hempas' 'asi']\n"
          ],
          "name": "stdout"
        }
      ]
    },
    {
      "cell_type": "code",
      "metadata": {
        "id": "VmxzODwLvdvm",
        "colab_type": "code",
        "colab": {
          "base_uri": "https://localhost:8080/",
          "height": 442
        },
        "outputId": "69eaede2-2d64-401c-f4de-93c072f4ca7b"
      },
      "source": [
        "print('training CNN ... ')\n",
        "\n",
        "model = Sequential()\n",
        "model.add(Embedding(nb_words, embed_dim,\n",
        "                    weights=[embedding_matrix],\n",
        "                    input_length=max_seq_len,\n",
        "                    trainable=False))\n",
        "model.add(Conv1D(num_filters, 7, activation='relu', padding='same'))\n",
        "model.add(MaxPooling1D(2))\n",
        "model.add(Conv1D(num_filters, 7, activation='relu', padding='same'))\n",
        "model.add(GlobalMaxPooling1D())\n",
        "model.add(Dropout(0.5))\n",
        "model.add(Dense(32, activation='relu', kernel_regularizer=regularizers.l2(weight_decay)))\n",
        "model.add(Dense(num_classes, activation='softmax'))\n",
        "\n",
        "adam = optimizers.Adam(lr = 0.001,\n",
        "                      beta_1 = 0.9,\n",
        "                      beta_2 = 0.999,\n",
        "                      epsilon=1e-08,\n",
        "                      decay=0.0)\n",
        "\n",
        "model.compile(loss='categorical_crossentropy', optimizer=adam, metrics=['accuracy'])\n",
        "model.summary()"
      ],
      "execution_count": 211,
      "outputs": [
        {
          "output_type": "stream",
          "text": [
            "training CNN ... \n",
            "Model: \"sequential_9\"\n",
            "_________________________________________________________________\n",
            "Layer (type)                 Output Shape              Param #   \n",
            "=================================================================\n",
            "embedding_9 (Embedding)      (None, 13, 300)           2270100   \n",
            "_________________________________________________________________\n",
            "conv1d_15 (Conv1D)           (None, 13, 64)            134464    \n",
            "_________________________________________________________________\n",
            "max_pooling1d_8 (MaxPooling1 (None, 6, 64)             0         \n",
            "_________________________________________________________________\n",
            "conv1d_16 (Conv1D)           (None, 6, 64)             28736     \n",
            "_________________________________________________________________\n",
            "global_max_pooling1d_8 (Glob (None, 64)                0         \n",
            "_________________________________________________________________\n",
            "dropout_7 (Dropout)          (None, 64)                0         \n",
            "_________________________________________________________________\n",
            "dense_12 (Dense)             (None, 32)                2080      \n",
            "_________________________________________________________________\n",
            "dense_13 (Dense)             (None, 3)                 99        \n",
            "=================================================================\n",
            "Total params: 2,435,479\n",
            "Trainable params: 165,379\n",
            "Non-trainable params: 2,270,100\n",
            "_________________________________________________________________\n"
          ],
          "name": "stdout"
        }
      ]
    },
    {
      "cell_type": "code",
      "metadata": {
        "id": "pHNZlKHEwddd",
        "colab_type": "code",
        "colab": {}
      },
      "source": [
        "early_stopping = EarlyStopping(monitor='val_loss',\n",
        "                               min_delta=0.01,\n",
        "                               patience=3,\n",
        "                               verbose=1)\n",
        "\n",
        "callbacks_list = [early_stopping]"
      ],
      "execution_count": 0,
      "outputs": []
    },
    {
      "cell_type": "code",
      "metadata": {
        "id": "gDcm_Wg42ZIu",
        "colab_type": "code",
        "colab": {}
      },
      "source": [
        "categorical = []\n",
        "\n",
        "for i in train['label']:\n",
        "  if i == -1:\n",
        "    categorical.append(0)\n",
        "  elif i == 0:\n",
        "    categorical.append(1)\n",
        "  elif i == 1:\n",
        "    categorical.append(2)\n",
        "\n",
        "train['categorical'] = categorical"
      ],
      "execution_count": 0,
      "outputs": []
    },
    {
      "cell_type": "code",
      "metadata": {
        "id": "YGqbLThZ3cET",
        "colab_type": "code",
        "colab": {}
      },
      "source": [
        "categorical = []\n",
        "\n",
        "for i in test['label']:\n",
        "  if i == -1:\n",
        "    categorical.append(0)\n",
        "  elif i == 0:\n",
        "    categorical.append(1)\n",
        "  elif i == 1:\n",
        "    categorical.append(2)\n",
        "\n",
        "test['categorical'] = categorical"
      ],
      "execution_count": 0,
      "outputs": []
    },
    {
      "cell_type": "code",
      "metadata": {
        "id": "iQVQ_qM0yrYZ",
        "colab_type": "code",
        "colab": {}
      },
      "source": [
        "from keras.utils import to_categorical\n",
        "\n",
        "train_labels = to_categorical(train['categorical'])"
      ],
      "execution_count": 0,
      "outputs": []
    },
    {
      "cell_type": "code",
      "metadata": {
        "id": "ikb5wnjSyzlG",
        "colab_type": "code",
        "colab": {
          "base_uri": "https://localhost:8080/",
          "height": 136
        },
        "outputId": "a7d7d62b-2db1-4274-8074-60f08bd8953a"
      },
      "source": [
        "print(train_labels)"
      ],
      "execution_count": 216,
      "outputs": [
        {
          "output_type": "stream",
          "text": [
            "[[0. 0. 1.]\n",
            " [0. 1. 0.]\n",
            " [0. 1. 0.]\n",
            " ...\n",
            " [0. 0. 1.]\n",
            " [1. 0. 0.]\n",
            " [1. 0. 0.]]\n"
          ],
          "name": "stdout"
        }
      ]
    },
    {
      "cell_type": "code",
      "metadata": {
        "id": "O573fLgk3_cO",
        "colab_type": "code",
        "colab": {}
      },
      "source": [
        "y_test = to_categorical(test['categorical'])"
      ],
      "execution_count": 0,
      "outputs": []
    },
    {
      "cell_type": "code",
      "metadata": {
        "id": "PP97AO1yw6bR",
        "colab_type": "code",
        "colab": {
          "base_uri": "https://localhost:8080/",
          "height": 306
        },
        "outputId": "d9a9bd63-7b11-471b-e7fb-5626db6a56da"
      },
      "source": [
        "hist = model.fit(word_seq_train,\n",
        "                 train_labels,\n",
        "                 batch_size = batch_size,\n",
        "                 epochs = num_epochs,\n",
        "                 validation_split=0.1,\n",
        "                 shuffle=True,\n",
        "                 verbose=2)"
      ],
      "execution_count": 218,
      "outputs": [
        {
          "output_type": "stream",
          "text": [
            "Train on 2610 samples, validate on 290 samples\n",
            "Epoch 1/8\n",
            " - 1s - loss: 0.7689 - accuracy: 0.7590 - val_loss: 0.3181 - val_accuracy: 0.9345\n",
            "Epoch 2/8\n",
            " - 1s - loss: 0.2205 - accuracy: 0.9605 - val_loss: 0.2817 - val_accuracy: 0.9345\n",
            "Epoch 3/8\n",
            " - 1s - loss: 0.1409 - accuracy: 0.9716 - val_loss: 0.3000 - val_accuracy: 0.9345\n",
            "Epoch 4/8\n",
            " - 1s - loss: 0.0967 - accuracy: 0.9805 - val_loss: 0.2921 - val_accuracy: 0.9310\n",
            "Epoch 5/8\n",
            " - 1s - loss: 0.0846 - accuracy: 0.9816 - val_loss: 0.2989 - val_accuracy: 0.9345\n",
            "Epoch 6/8\n",
            " - 1s - loss: 0.0786 - accuracy: 0.9816 - val_loss: 0.2696 - val_accuracy: 0.9448\n",
            "Epoch 7/8\n",
            " - 1s - loss: 0.0718 - accuracy: 0.9812 - val_loss: 0.2580 - val_accuracy: 0.9517\n",
            "Epoch 8/8\n",
            " - 1s - loss: 0.0596 - accuracy: 0.9881 - val_loss: 0.2687 - val_accuracy: 0.9414\n"
          ],
          "name": "stdout"
        }
      ]
    },
    {
      "cell_type": "code",
      "metadata": {
        "id": "uHgaB_ph6av2",
        "colab_type": "code",
        "colab": {
          "base_uri": "https://localhost:8080/",
          "height": 315
        },
        "outputId": "1f9ca196-0fe8-45c2-8215-58bf18be314b"
      },
      "source": [
        "plt.figure()\n",
        "plt.plot(hist.history['loss'], lw=2.0, color='b', label='train')\n",
        "plt.plot(hist.history['val_loss'], lw=2.0, color='r', label='val')\n",
        "plt.title('CNN sentiment')\n",
        "plt.xlabel('Epochs')\n",
        "plt.ylabel('Cross-Entropy Loss')\n",
        "plt.legend(loc='upper right')\n",
        "plt.show()"
      ],
      "execution_count": 219,
      "outputs": [
        {
          "output_type": "display_data",
          "data": {
            "image/png": "[encoded data removed]",
            "text/plain": [
              "<Figure size 432x288 with 1 Axes>"
            ]
          },
          "metadata": {
            "tags": []
          }
        }
      ]
    },
    {
      "cell_type": "code",
      "metadata": {
        "id": "xjmARJ3f6B_B",
        "colab_type": "code",
        "colab": {
          "base_uri": "https://localhost:8080/",
          "height": 315
        },
        "outputId": "9c16bb19-7779-40a7-baba-ddf7df74aacf"
      },
      "source": [
        "plt.figure()\n",
        "plt.plot(hist.history['accuracy'], lw=2.0, color='b', label='train')\n",
        "plt.plot(hist.history['val_accuracy'], lw=2.0, color='r', label='val')\n",
        "plt.title('CNN sentiment')\n",
        "plt.xlabel('Epochs')\n",
        "plt.ylabel('Accuracy')\n",
        "plt.legend(loc='upper left')\n",
        "plt.show()"
      ],
      "execution_count": 220,
      "outputs": [
        {
          "output_type": "display_data",
          "data": {
            "image/png": "[encoded data removed]",
            "text/plain": [
              "<Figure size 432x288 with 1 Axes>"
            ]
          },
          "metadata": {
            "tags": []
          }
        }
      ]
    },
    {
      "cell_type": "code",
      "metadata": {
        "id": "Xt788Z5S8zWq",
        "colab_type": "code",
        "colab": {}
      },
      "source": [
        ""
      ],
      "execution_count": 0,
      "outputs": []
    }
  ]
}