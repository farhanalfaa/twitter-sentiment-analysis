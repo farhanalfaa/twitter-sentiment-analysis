{
  "nbformat": 4,
  "nbformat_minor": 0,
  "metadata": {
    "colab": {
      "name": "[Part 4] Convolutional Neural Network.ipynb",
      "provenance": [],
      "collapsed_sections": []
    },
    "kernelspec": {
      "name": "python3",
      "display_name": "Python 3"
    }
  },
  "cells": [
    {
      "cell_type": "markdown",
      "metadata": {
        "id": "GAXplDAy1IGM",
        "colab_type": "text"
      },
      "source": [
        "# **Sentiment Classification with Convolutional Neural Networks**"
      ]
    },
    {
      "cell_type": "markdown",
      "metadata": {
        "id": "l5lZIHQfk3Ch",
        "colab_type": "text"
      },
      "source": [
        "### **[Part 1] Google Drive Mount**"
      ]
    },
    {
      "cell_type": "code",
      "metadata": {
        "id": "1vcU87LVk1V2",
        "colab_type": "code",
        "colab": {
          "base_uri": "https://localhost:8080/",
          "height": 34
        },
        "outputId": "9a4e5ffb-8fe9-46f7-9576-2aed6bf614ee"
      },
      "source": [
        "from google.colab import drive\n",
        "drive.mount('/content/drive')"
      ],
      "execution_count": 1,
      "outputs": [
        {
          "output_type": "stream",
          "text": [
            "Drive already mounted at /content/drive; to attempt to forcibly remount, call drive.mount(\"/content/drive\", force_remount=True).\n"
          ],
          "name": "stdout"
        }
      ]
    },
    {
      "cell_type": "markdown",
      "metadata": {
        "id": "R8hg3LdJ1QYI",
        "colab_type": "text"
      },
      "source": [
        "\n",
        "\n",
        "---\n",
        "\n"
      ]
    },
    {
      "cell_type": "markdown",
      "metadata": {
        "id": "nCAM6rFSkmEg",
        "colab_type": "text"
      },
      "source": [
        "### **[Part 2] Install Library**"
      ]
    },
    {
      "cell_type": "code",
      "metadata": {
        "id": "Hgxk2Qb-3oPF",
        "colab_type": "code",
        "colab": {
          "base_uri": "https://localhost:8080/",
          "height": 88
        },
        "outputId": "12bd6f00-de0c-4a55-8aa7-29cd451bd1c7"
      },
      "source": [
        "import keras\n",
        "from keras import optimizers\n",
        "from keras import backend as K\n",
        "from keras import regularizers\n",
        "from keras.models import Sequential, load_model\n",
        "from keras.layers import Dense, Activation, Dropout\n",
        "from keras.layers import Embedding, Conv1D, MaxPooling1D, GlobalMaxPooling1D \n",
        "from keras.layers.normalization import BatchNormalization\n",
        "from keras.utils import to_categorical\n",
        "from keras.preprocessing import sequence\n",
        "from keras.preprocessing.text import Tokenizer\n",
        "from keras.callbacks import EarlyStopping\n",
        "\n",
        "import pandas as pd\n",
        "import numpy as np\n",
        "import matplotlib.pyplot as plt\n",
        "import seaborn as sns\n",
        "import codecs\n",
        "\n",
        "from tqdm import tqdm\n",
        "plt.style.use('bmh')"
      ],
      "execution_count": 2,
      "outputs": [
        {
          "output_type": "stream",
          "text": [
            "Using TensorFlow backend.\n",
            "/usr/local/lib/python3.6/dist-packages/statsmodels/tools/_testing.py:19: FutureWarning: pandas.util.testing is deprecated. Use the functions in the public API at pandas.testing instead.\n",
            "  import pandas.util.testing as tm\n"
          ],
          "name": "stderr"
        }
      ]
    },
    {
      "cell_type": "markdown",
      "metadata": {
        "id": "pNRp-euD1Um4",
        "colab_type": "text"
      },
      "source": [
        "\n",
        "\n",
        "---\n",
        "\n"
      ]
    },
    {
      "cell_type": "markdown",
      "metadata": {
        "id": "hItpILGBw594",
        "colab_type": "text"
      },
      "source": [
        "### **[Part 3] Load Dataset**"
      ]
    },
    {
      "cell_type": "code",
      "metadata": {
        "id": "kYJzhK_v6tOm",
        "colab_type": "code",
        "colab": {}
      },
      "source": [
        "train = pd.read_excel('/content/drive/My Drive/Tugas_Akhir/dataset/train.xlsx', index_col=0)\n",
        "test  = pd.read_excel('/content/drive/My Drive/Tugas_Akhir/dataset/test.xlsx', index_col=0)"
      ],
      "execution_count": 3,
      "outputs": []
    },
    {
      "cell_type": "code",
      "metadata": {
        "id": "5KJPfOJi7Q5o",
        "colab_type": "code",
        "colab": {}
      },
      "source": [
        "y_train = train['label'].tolist()"
      ],
      "execution_count": 4,
      "outputs": []
    },
    {
      "cell_type": "markdown",
      "metadata": {
        "id": "2gxbTMg_1Zga",
        "colab_type": "text"
      },
      "source": [
        "\n",
        "\n",
        "---\n",
        "\n"
      ]
    },
    {
      "cell_type": "markdown",
      "metadata": {
        "id": "P-aaHJOGlpjU",
        "colab_type": "text"
      },
      "source": [
        "### **[Part 4] Load FastText Model**"
      ]
    },
    {
      "cell_type": "code",
      "metadata": {
        "id": "ADSR-jFv7VAz",
        "colab_type": "code",
        "colab": {
          "base_uri": "https://localhost:8080/",
          "height": 187
        },
        "outputId": "6c005996-2de1-409a-b381-4329c8fa9579"
      },
      "source": [
        "print('\\n=============================')\n",
        "print(' > Loading Word Embeddings > ')\n",
        "print('=============================')\n",
        "\n",
        "embeddings_index = {}\n",
        "\n",
        "f = codecs.open('/content/drive/My Drive/Tugas_Akhir/model/ft_model.vec', encoding='utf-8')\n",
        "\n",
        "for line in tqdm(f):\n",
        "  values = line.rstrip().rsplit(' ')\n",
        "  word = values[0]\n",
        "  coefs = np.asarray(values[1:], dtype='float32')\n",
        "  embeddings_index[word] = coefs\n",
        "\n",
        "f.close()\n",
        "\n",
        "print('\\n\\nNumber of Word Vectors : ', len(embeddings_index))\n",
        "print('Number of Train Data   : ', train.shape[0])\n",
        "print('Number of Test Data    : ', test.shape[0])\n"
      ],
      "execution_count": 5,
      "outputs": [
        {
          "output_type": "stream",
          "text": [
            "2202it [00:00, 22008.74it/s]"
          ],
          "name": "stderr"
        },
        {
          "output_type": "stream",
          "text": [
            "\n",
            "=============================\n",
            " > Loading Word Embeddings > \n",
            "=============================\n"
          ],
          "name": "stdout"
        },
        {
          "output_type": "stream",
          "text": [
            "201428it [00:09, 21077.35it/s]"
          ],
          "name": "stderr"
        },
        {
          "output_type": "stream",
          "text": [
            "\n",
            "\n",
            "Number of Word Vectors :  201428\n",
            "Number of Train Data   :  2900\n",
            "Number of Test Data    :  682\n"
          ],
          "name": "stdout"
        },
        {
          "output_type": "stream",
          "text": [
            "\n"
          ],
          "name": "stderr"
        }
      ]
    },
    {
      "cell_type": "markdown",
      "metadata": {
        "id": "51BgUZ7p1lGu",
        "colab_type": "text"
      },
      "source": [
        "\n",
        "\n",
        "---\n",
        "\n"
      ]
    },
    {
      "cell_type": "markdown",
      "metadata": {
        "id": "AlOz5tMH1nOU",
        "colab_type": "text"
      },
      "source": [
        "### **[Part 5] Comment Length Visualization**"
      ]
    },
    {
      "cell_type": "code",
      "metadata": {
        "id": "pDJ37Wl67gu5",
        "colab_type": "code",
        "colab": {
          "base_uri": "https://localhost:8080/",
          "height": 279
        },
        "outputId": "de36c9d5-4cb3-4fd6-9efe-fd0ebdc62842"
      },
      "source": [
        "label_names = ['positive', 'neutral','negative']\n",
        "\n",
        "train['doc_len'] = train['text'].apply(lambda words: len(words.split(' ')))\n",
        "\n",
        "max_seq_len = np.max(train['doc_len'])+1\n",
        "\n",
        "fig, ax = plt.subplots(figsize=(6,4))\n",
        "\n",
        "train['doc_len'].plot(kind='hist',\n",
        "                      density=True,\n",
        "                      alpha=0.65,\n",
        "                      bins=15,\n",
        "                      label='Frekuensi Tweet')\n",
        "\n",
        "train['doc_len'].plot(kind='kde', label='')\n",
        "\n",
        "ax.set_xlim(-5, 42)\n",
        "ax.set_xlabel(\"\")\n",
        "ax.set_ylim(0, 0.13)\n",
        "ax.set_yticks([])\n",
        "ax.set_ylabel(\"\")\n",
        "ax.set_title(\"Distribusi Kata tiap Tweet\")\n",
        "ax.grid(False)\n",
        "ax.axvline(x=max_seq_len, alpha=0.65, color='k', linestyle=':', label='Jumlah Kata Maksimum')\n",
        "ax.tick_params(left = False, bottom = False)\n",
        "for ax, spine in ax.spines.items():\n",
        "    spine.set_visible(False)\n",
        "\n",
        "plt.legend()\n",
        "plt.show()"
      ],
      "execution_count": 6,
      "outputs": [
        {
          "output_type": "display_data",
          "data": {
            "image/png": "[encoded data removed]",
            "text/plain": [
              "<Figure size 432x288 with 1 Axes>"
            ]
          },
          "metadata": {
            "tags": [],
            "needs_background": "light"
          }
        }
      ]
    },
    {
      "cell_type": "markdown",
      "metadata": {
        "id": "T5rv7_Sn1tH7",
        "colab_type": "text"
      },
      "source": [
        "\n",
        "\n",
        "---\n",
        "\n"
      ]
    },
    {
      "cell_type": "markdown",
      "metadata": {
        "id": "3zW5kUQU1v6G",
        "colab_type": "text"
      },
      "source": [
        "### **[Part 6] Tokenizing Training Data**"
      ]
    },
    {
      "cell_type": "code",
      "metadata": {
        "id": "BVqPrmgY7l17",
        "colab_type": "code",
        "colab": {
          "base_uri": "https://localhost:8080/",
          "height": 85
        },
        "outputId": "fd0f5651-4342-44f0-984d-26e4bd52bb85"
      },
      "source": [
        "raw_docs_train = train['text'].tolist()\n",
        "raw_docs_test  = test['text'].tolist()\n",
        "\n",
        "\n",
        "MAX_NB_WORDS = 100000\n",
        "num_classes = len(label_names)\n",
        "\n",
        "print('=============================')\n",
        "print(' >> Tokenizing Input Data >> ')\n",
        "print('=============================')\n",
        "\n",
        "tokenizer = Tokenizer(num_words=MAX_NB_WORDS,\n",
        "                      lower=True,\n",
        "                      char_level=False)\n",
        "tokenizer.fit_on_texts(raw_docs_train + raw_docs_test)\n",
        "\n",
        "\n",
        "word_seq_train = tokenizer.texts_to_sequences(raw_docs_train)\n",
        "word_seq_test  = tokenizer.texts_to_sequences(raw_docs_test)\n",
        "\n",
        "word_index = tokenizer.word_index\n",
        "\n",
        "print('Dictionary Size: ', len(word_index))\n",
        "\n",
        "word_seq_train = sequence.pad_sequences(word_seq_train, maxlen = max_seq_len)\n",
        "word_seq_test  = sequence.pad_sequences(word_seq_test, maxlen = max_seq_len)\n",
        "\n"
      ],
      "execution_count": 7,
      "outputs": [
        {
          "output_type": "stream",
          "text": [
            "=============================\n",
            " >> Tokenizing Input Data >> \n",
            "=============================\n",
            "Dictionary Size:  7495\n"
          ],
          "name": "stdout"
        }
      ]
    },
    {
      "cell_type": "markdown",
      "metadata": {
        "id": "aLqYW2Mp125j",
        "colab_type": "text"
      },
      "source": [
        "\n",
        "\n",
        "---\n",
        "\n"
      ]
    },
    {
      "cell_type": "markdown",
      "metadata": {
        "id": "Fqdwo_2o13_Y",
        "colab_type": "text"
      },
      "source": [
        "### **[Part 7] Hyperparameters**"
      ]
    },
    {
      "cell_type": "code",
      "metadata": {
        "id": "C7hu5p0H7oin",
        "colab_type": "code",
        "colab": {}
      },
      "source": [
        "batch_size  = 256\n",
        "num_epochs  = 16\n",
        "\n",
        "embed_dim   = 100\n",
        "num_filters = 64\n",
        "weight_decay = 1e-4"
      ],
      "execution_count": 8,
      "outputs": []
    },
    {
      "cell_type": "markdown",
      "metadata": {
        "id": "XZHQydcb1-t9",
        "colab_type": "text"
      },
      "source": [
        "\n",
        "\n",
        "---\n",
        "\n"
      ]
    },
    {
      "cell_type": "markdown",
      "metadata": {
        "id": "CUn_Okgy1_rx",
        "colab_type": "text"
      },
      "source": [
        "### **[Part 8] Embedding Matrix**"
      ]
    },
    {
      "cell_type": "code",
      "metadata": {
        "id": "OK5Kglki7q24",
        "colab_type": "code",
        "colab": {
          "base_uri": "https://localhost:8080/",
          "height": 102
        },
        "outputId": "702c155e-7357-4f73-db4e-e6c39906ac48"
      },
      "source": [
        "print('==================================')\n",
        "print(' >> Preparing Embedding Matrix >> ')\n",
        "print('==================================')\n",
        "\n",
        "words_not_found = []\n",
        "\n",
        "nb_words = min(MAX_NB_WORDS, len(word_index))\n",
        "\n",
        "embedding_matrix = np.zeros((nb_words+1, embed_dim))\n",
        "\n",
        "for word, i in word_index.items():\n",
        "  if i >= nb_words:\n",
        "    continue\n",
        "  embedding_vector = embeddings_index.get(word)\n",
        "  if (embedding_vector is not None) and len(embedding_vector) > 0:\n",
        "    embedding_matrix[i] = embedding_vector\n",
        "  else:\n",
        "    words_not_found.append(word)\n",
        "\n",
        "print('Number of Null Word Embeddings : %d' % np.sum(np.sum(embedding_matrix, axis=1) == 0))\n",
        "print(\"Sample Words Not Found         :\", np.random.choice(words_not_found, 5))"
      ],
      "execution_count": 9,
      "outputs": [
        {
          "output_type": "stream",
          "text": [
            "==================================\n",
            " >> Preparing Embedding Matrix >> \n",
            "==================================\n",
            "Number of Null Word Embeddings : 323\n",
            "Sample Words Not Found         : ['jieh' 'iluminati' 'brrti' 'tawwa' 'mindblowing']\n"
          ],
          "name": "stdout"
        }
      ]
    },
    {
      "cell_type": "markdown",
      "metadata": {
        "id": "nE8EPkbi2EA0",
        "colab_type": "text"
      },
      "source": [
        "\n",
        "\n",
        "---\n",
        "\n"
      ]
    },
    {
      "cell_type": "markdown",
      "metadata": {
        "id": "EaYrj0N82cUW",
        "colab_type": "text"
      },
      "source": [
        "### **[Part 9] Convert into Categorical Data**"
      ]
    },
    {
      "cell_type": "code",
      "metadata": {
        "id": "mIKf7yGv70T_",
        "colab_type": "code",
        "colab": {}
      },
      "source": [
        "target = []\n",
        "\n",
        "for i in train['label']:\n",
        "  if i == -1:\n",
        "    target.append(0)\n",
        "  elif i == 0:\n",
        "    target.append(1)\n",
        "  elif i == 1:\n",
        "    target.append(2)\n",
        "\n",
        "train['new_label'] = target\n",
        "\n",
        "train_labels = to_categorical(train['new_label'])"
      ],
      "execution_count": 10,
      "outputs": []
    },
    {
      "cell_type": "markdown",
      "metadata": {
        "id": "BdxQBuDk2jDO",
        "colab_type": "text"
      },
      "source": [
        "\n",
        "---\n",
        "\n"
      ]
    },
    {
      "cell_type": "markdown",
      "metadata": {
        "id": "uUvxboZ22l8D",
        "colab_type": "text"
      },
      "source": [
        "### **[Part 10] Early Stopping for Avoid Overfitting Model**"
      ]
    },
    {
      "cell_type": "code",
      "metadata": {
        "id": "xBVOJ9m87wsd",
        "colab_type": "code",
        "colab": {}
      },
      "source": [
        "early_stopping = EarlyStopping(monitor='val_loss',\n",
        "                               min_delta=0.01,\n",
        "                               patience=3,\n",
        "                               verbose=1)\n",
        "\n",
        "callbacks_list = [early_stopping]"
      ],
      "execution_count": 11,
      "outputs": []
    },
    {
      "cell_type": "markdown",
      "metadata": {
        "id": "COEH7SWf2tVc",
        "colab_type": "text"
      },
      "source": [
        "\n",
        "---\n",
        "\n"
      ]
    },
    {
      "cell_type": "markdown",
      "metadata": {
        "id": "NWxdVtxC2uSU",
        "colab_type": "text"
      },
      "source": [
        "### **[Part 11] Conv. Neural Network Training**"
      ]
    },
    {
      "cell_type": "code",
      "metadata": {
        "id": "eFHAMyfM7ucF",
        "colab_type": "code",
        "colab": {
          "base_uri": "https://localhost:8080/",
          "height": 544
        },
        "outputId": "4d46d1c6-5d11-4560-a211-7029da8187b8"
      },
      "source": [
        "print('=============================')\n",
        "print('    >>> Training CNN >>>     ')\n",
        "print('=============================')\n",
        "\n",
        "model = Sequential(name='Final Model')\n",
        "model.add(Embedding(nb_words+1, embed_dim,\n",
        "                    weights=[embedding_matrix],\n",
        "                    input_length=max_seq_len,\n",
        "                    trainable=False))\n",
        "model.add(Conv1D(num_filters, 7, activation='relu', padding='same'))\n",
        "model.add(MaxPooling1D(2))\n",
        "model.add(BatchNormalization())\n",
        "model.add(Conv1D(num_filters, 7, activation='relu', padding='same'))\n",
        "model.add(GlobalMaxPooling1D())\n",
        "model.add(BatchNormalization())\n",
        "model.add(Dropout(0.5))\n",
        "model.add(Dense(32, activation='relu', kernel_regularizer=regularizers.l2(weight_decay)))\n",
        "model.add(Dense(num_classes, activation='softmax'))\n",
        "\n",
        "adam = optimizers.Adam(lr = 0.01)\n",
        "\n",
        "model.compile(loss='categorical_crossentropy', optimizer='adam', metrics=['accuracy'])\n",
        "model.summary()"
      ],
      "execution_count": 12,
      "outputs": [
        {
          "output_type": "stream",
          "text": [
            "=============================\n",
            "    >>> Training CNN >>>     \n",
            "=============================\n",
            "Model: \"Final Model\"\n",
            "_________________________________________________________________\n",
            "Layer (type)                 Output Shape              Param #   \n",
            "=================================================================\n",
            "embedding_1 (Embedding)      (None, 42, 100)           749600    \n",
            "_________________________________________________________________\n",
            "conv1d_1 (Conv1D)            (None, 42, 64)            44864     \n",
            "_________________________________________________________________\n",
            "max_pooling1d_1 (MaxPooling1 (None, 21, 64)            0         \n",
            "_________________________________________________________________\n",
            "batch_normalization_1 (Batch (None, 21, 64)            256       \n",
            "_________________________________________________________________\n",
            "conv1d_2 (Conv1D)            (None, 21, 64)            28736     \n",
            "_________________________________________________________________\n",
            "global_max_pooling1d_1 (Glob (None, 64)                0         \n",
            "_________________________________________________________________\n",
            "batch_normalization_2 (Batch (None, 64)                256       \n",
            "_________________________________________________________________\n",
            "dropout_1 (Dropout)          (None, 64)                0         \n",
            "_________________________________________________________________\n",
            "dense_1 (Dense)              (None, 32)                2080      \n",
            "_________________________________________________________________\n",
            "dense_2 (Dense)              (None, 3)                 99        \n",
            "=================================================================\n",
            "Total params: 825,891\n",
            "Trainable params: 76,035\n",
            "Non-trainable params: 749,856\n",
            "_________________________________________________________________\n"
          ],
          "name": "stdout"
        }
      ]
    },
    {
      "cell_type": "code",
      "metadata": {
        "id": "KSUK-vef77FW",
        "colab_type": "code",
        "colab": {
          "base_uri": "https://localhost:8080/",
          "height": 561
        },
        "outputId": "4e983384-09e9-481e-bd2c-4441578959f5"
      },
      "source": [
        "hist = model.fit(word_seq_train,\n",
        "                 train_labels,\n",
        "                 batch_size = batch_size,\n",
        "                 epochs = num_epochs,\n",
        "                 validation_split=0.2,\n",
        "                 callbacks = callbacks_list,\n",
        "                 shuffle=True,\n",
        "                 verbose=2)"
      ],
      "execution_count": 13,
      "outputs": [
        {
          "output_type": "stream",
          "text": [
            "Train on 2320 samples, validate on 580 samples\n",
            "Epoch 1/16\n",
            " - 1s - loss: 0.8113 - accuracy: 0.6711 - val_loss: 0.5108 - val_accuracy: 0.7948\n",
            "Epoch 2/16\n",
            " - 1s - loss: 0.2777 - accuracy: 0.9198 - val_loss: 0.3413 - val_accuracy: 0.8828\n",
            "Epoch 3/16\n",
            " - 1s - loss: 0.1582 - accuracy: 0.9582 - val_loss: 0.2076 - val_accuracy: 0.9310\n",
            "Epoch 4/16\n",
            " - 1s - loss: 0.1175 - accuracy: 0.9728 - val_loss: 0.1378 - val_accuracy: 0.9638\n",
            "Epoch 5/16\n",
            " - 1s - loss: 0.1015 - accuracy: 0.9741 - val_loss: 0.1167 - val_accuracy: 0.9707\n",
            "Epoch 6/16\n",
            " - 1s - loss: 0.0788 - accuracy: 0.9815 - val_loss: 0.0902 - val_accuracy: 0.9759\n",
            "Epoch 7/16\n",
            " - 1s - loss: 0.0679 - accuracy: 0.9849 - val_loss: 0.0965 - val_accuracy: 0.9724\n",
            "Epoch 8/16\n",
            " - 1s - loss: 0.0515 - accuracy: 0.9931 - val_loss: 0.0867 - val_accuracy: 0.9776\n",
            "Epoch 9/16\n",
            " - 1s - loss: 0.0550 - accuracy: 0.9871 - val_loss: 0.0741 - val_accuracy: 0.9828\n",
            "Epoch 10/16\n",
            " - 1s - loss: 0.0462 - accuracy: 0.9927 - val_loss: 0.0618 - val_accuracy: 0.9828\n",
            "Epoch 11/16\n",
            " - 1s - loss: 0.0405 - accuracy: 0.9931 - val_loss: 0.0553 - val_accuracy: 0.9828\n",
            "Epoch 12/16\n",
            " - 1s - loss: 0.0418 - accuracy: 0.9892 - val_loss: 0.0478 - val_accuracy: 0.9879\n",
            "Epoch 13/16\n",
            " - 1s - loss: 0.0435 - accuracy: 0.9918 - val_loss: 0.0516 - val_accuracy: 0.9845\n",
            "Epoch 14/16\n",
            " - 1s - loss: 0.0337 - accuracy: 0.9935 - val_loss: 0.0540 - val_accuracy: 0.9828\n",
            "Epoch 15/16\n",
            " - 1s - loss: 0.0273 - accuracy: 0.9961 - val_loss: 0.0496 - val_accuracy: 0.9828\n",
            "Epoch 00015: early stopping\n"
          ],
          "name": "stdout"
        }
      ]
    },
    {
      "cell_type": "markdown",
      "metadata": {
        "id": "bs9zRD2l26eV",
        "colab_type": "text"
      },
      "source": [
        "\n",
        "---\n",
        "\n"
      ]
    },
    {
      "cell_type": "markdown",
      "metadata": {
        "id": "K4vFYr2_9LGh",
        "colab_type": "text"
      },
      "source": [
        "### **[Part 12] Loss and Accuracy Visualization**"
      ]
    },
    {
      "cell_type": "code",
      "metadata": {
        "id": "cFA9S7ae8YoQ",
        "colab_type": "code",
        "colab": {
          "base_uri": "https://localhost:8080/",
          "height": 296
        },
        "outputId": "45680b49-afe8-454a-e633-7c6ff108279b"
      },
      "source": [
        "fig, (ax1, ax2) = plt.subplots(1, 2, figsize=(12, 4))\n",
        "\n",
        "ax1.plot(hist.history['loss'], lw=2.0, color='b', alpha=0.65, label='train')\n",
        "ax1.plot(hist.history['val_loss'], lw=2.0, color='r', alpha=0.65, label='val')\n",
        "ax1.set_title('Loss Visualization')\n",
        "ax1.set_xlabel('Epochs')\n",
        "ax1.set_ylabel('Cross-Entropy Loss')\n",
        "ax1.legend(loc='upper right')\n",
        "ax2.plot(hist.history['accuracy'], lw=2.0, color='b', alpha=0.65, label='train')\n",
        "ax2.plot(hist.history['val_accuracy'], lw=2.0, color='r', alpha=0.65, label='val')\n",
        "ax2.set_title('Accuracy Visualization')\n",
        "ax2.set_xlabel('Epochs')\n",
        "ax2.set_ylabel('Accuracy')\n",
        "ax2.legend(loc='lower right')\n",
        "\n",
        "ax1.grid(False)\n",
        "ax2.grid(False)\n",
        "\n",
        "ax2.set_ylim(-0.1, 1.1)\n",
        "plt.show()"
      ],
      "execution_count": 14,
      "outputs": [
        {
          "output_type": "display_data",
          "data": {
            "image/png": "[encoded data removed]",
            "text/plain": [
              "<Figure size 864x288 with 2 Axes>"
            ]
          },
          "metadata": {
            "tags": [],
            "needs_background": "light"
          }
        }
      ]
    },
    {
      "cell_type": "markdown",
      "metadata": {
        "id": "BkPz693gJJ7o",
        "colab_type": "text"
      },
      "source": [
        "\n",
        "\n",
        "---\n",
        "\n"
      ]
    },
    {
      "cell_type": "markdown",
      "metadata": {
        "id": "n8rWNi3cJHAr",
        "colab_type": "text"
      },
      "source": [
        "### **[Part 13] Save Model**"
      ]
    },
    {
      "cell_type": "code",
      "metadata": {
        "id": "0G8oWm2JJJlk",
        "colab_type": "code",
        "colab": {
          "base_uri": "https://localhost:8080/",
          "height": 34
        },
        "outputId": "caababc0-2aea-4770-cf8c-fe8f449f97ae"
      },
      "source": [
        "model.save(\"new_model.h5\")\n",
        "print(\"Saved model to disk\")"
      ],
      "execution_count": 15,
      "outputs": [
        {
          "output_type": "stream",
          "text": [
            "Saved model to disk\n"
          ],
          "name": "stdout"
        }
      ]
    },
    {
      "cell_type": "code",
      "metadata": {
        "id": "_iOaBjYIL73E",
        "colab_type": "code",
        "colab": {
          "base_uri": "https://localhost:8080/",
          "height": 34
        },
        "outputId": "1465086e-7ffa-4df4-f1b9-1312f39e9ef6"
      },
      "source": [
        "import pickle\n",
        "\n",
        "with open('new_tokenizer.pickle', 'wb') as handle:\n",
        "    pickle.dump(tokenizer, handle, protocol=pickle.HIGHEST_PROTOCOL)\n",
        "\n",
        "print(\"Saved tokenizer model to disk\")"
      ],
      "execution_count": 16,
      "outputs": [
        {
          "output_type": "stream",
          "text": [
            "Saved tokenizer model to disk\n"
          ],
          "name": "stdout"
        }
      ]
    },
    {
      "cell_type": "code",
      "metadata": {
        "id": "0JWMEgV3Jqg3",
        "colab_type": "code",
        "colab": {
          "base_uri": "https://localhost:8080/",
          "height": 34
        },
        "outputId": "3068c4b4-841d-4532-a076-7e4165c989f9"
      },
      "source": [
        "!cp new_model.h5 '/content/drive/My Drive/Tugas_Akhir/model/'\n",
        "!cp new_tokenizer.pickle '/content/drive/My Drive/Tugas_Akhir/model/'\n",
        "\n",
        "print(\"Uploaded model to Google Drive\")"
      ],
      "execution_count": 17,
      "outputs": [
        {
          "output_type": "stream",
          "text": [
            "Uploaded model to Google Drive\n"
          ],
          "name": "stdout"
        }
      ]
    },
    {
      "cell_type": "markdown",
      "metadata": {
        "id": "Pk6ghVDc28-R",
        "colab_type": "text"
      },
      "source": [
        "\n",
        "---\n",
        "\n"
      ]
    },
    {
      "cell_type": "code",
      "metadata": {
        "id": "3Aad0EeWaIG2",
        "colab_type": "code",
        "colab": {
          "base_uri": "https://localhost:8080/",
          "height": 1000
        },
        "outputId": "fa5696ca-b036-4285-a903-33e060bf6e80"
      },
      "source": [
        "from IPython.display import SVG\n",
        "from keras.utils.vis_utils import model_to_dot\n",
        "\n",
        "SVG(model_to_dot(model,show_shapes = True, dpi=60).create(prog='dot', format='svg'))"
      ],
      "execution_count": 18,
      "outputs": [
        {
          "output_type": "execute_result",
          "data": {
            "text/plain": [
              "<IPython.core.display.SVG object>"
            ],
            "image/svg+xml": "<svg height=\"737pt\" viewBox=\"0.00 0.00 472.00 885.00\" width=\"393pt\" xmlns=\"http://www.w3.org/2000/svg\" xmlns:xlink=\"http://www.w3.org/1999/xlink\">\n<g class=\"graph\" id=\"graph0\" transform=\"scale(.8333 .8333) rotate(0) translate(4 881)\">\n<title>G</title>\n<polygon fill=\"#ffffff\" points=\"-4,4 -4,-881 468,-881 468,4 -4,4\" stroke=\"transparent\"/>\n<!-- 140186993770112 -->\n<g class=\"node\" id=\"node1\">\n<title>140186993770112</title>\n<polygon fill=\"none\" points=\"60.5,-830.5 60.5,-876.5 403.5,-876.5 403.5,-830.5 60.5,-830.5\" stroke=\"#000000\"/>\n<text fill=\"#000000\" font-family=\"Times,serif\" font-size=\"14.00\" text-anchor=\"middle\" x=\"163\" y=\"-849.8\">embedding_1_input: InputLayer</text>\n<polyline fill=\"none\" points=\"265.5,-830.5 265.5,-876.5 \" stroke=\"#000000\"/>\n<text fill=\"#000000\" font-family=\"Times,serif\" font-size=\"14.00\" text-anchor=\"middle\" x=\"294.5\" y=\"-861.3\">input:</text>\n<polyline fill=\"none\" points=\"265.5,-853.5 323.5,-853.5 \" stroke=\"#000000\"/>\n<text fill=\"#000000\" font-family=\"Times,serif\" font-size=\"14.00\" text-anchor=\"middle\" x=\"294.5\" y=\"-838.3\">output:</text>\n<polyline fill=\"none\" points=\"323.5,-830.5 323.5,-876.5 \" stroke=\"#000000\"/>\n<text fill=\"#000000\" font-family=\"Times,serif\" font-size=\"14.00\" text-anchor=\"middle\" x=\"363.5\" y=\"-861.3\">(None, 42)</text>\n<polyline fill=\"none\" points=\"323.5,-853.5 403.5,-853.5 \" stroke=\"#000000\"/>\n<text fill=\"#000000\" font-family=\"Times,serif\" font-size=\"14.00\" text-anchor=\"middle\" x=\"363.5\" y=\"-838.3\">(None, 42)</text>\n</g>\n<!-- 140186993768656 -->\n<g class=\"node\" id=\"node2\">\n<title>140186993768656</title>\n<polygon fill=\"none\" points=\"62.5,-747.5 62.5,-793.5 401.5,-793.5 401.5,-747.5 62.5,-747.5\" stroke=\"#000000\"/>\n<text fill=\"#000000\" font-family=\"Times,serif\" font-size=\"14.00\" text-anchor=\"middle\" x=\"148\" y=\"-766.8\">embedding_1: Embedding</text>\n<polyline fill=\"none\" points=\"233.5,-747.5 233.5,-793.5 \" stroke=\"#000000\"/>\n<text fill=\"#000000\" font-family=\"Times,serif\" font-size=\"14.00\" text-anchor=\"middle\" x=\"262.5\" y=\"-778.3\">input:</text>\n<polyline fill=\"none\" points=\"233.5,-770.5 291.5,-770.5 \" stroke=\"#000000\"/>\n<text fill=\"#000000\" font-family=\"Times,serif\" font-size=\"14.00\" text-anchor=\"middle\" x=\"262.5\" y=\"-755.3\">output:</text>\n<polyline fill=\"none\" points=\"291.5,-747.5 291.5,-793.5 \" stroke=\"#000000\"/>\n<text fill=\"#000000\" font-family=\"Times,serif\" font-size=\"14.00\" text-anchor=\"middle\" x=\"346.5\" y=\"-778.3\">(None, 42)</text>\n<polyline fill=\"none\" points=\"291.5,-770.5 401.5,-770.5 \" stroke=\"#000000\"/>\n<text fill=\"#000000\" font-family=\"Times,serif\" font-size=\"14.00\" text-anchor=\"middle\" x=\"346.5\" y=\"-755.3\">(None, 42, 100)</text>\n</g>\n<!-- 140186993770112&#45;&gt;140186993768656 -->\n<g class=\"edge\" id=\"edge1\">\n<title>140186993770112-&gt;140186993768656</title>\n<path d=\"M232,-830.3799C232,-822.1745 232,-812.7679 232,-803.8786\" fill=\"none\" stroke=\"#000000\"/>\n<polygon fill=\"#000000\" points=\"235.5001,-803.784 232,-793.784 228.5001,-803.784 235.5001,-803.784\" stroke=\"#000000\"/>\n</g>\n<!-- 140186993768544 -->\n<g class=\"node\" id=\"node3\">\n<title>140186993768544</title>\n<polygon fill=\"none\" points=\"81.5,-664.5 81.5,-710.5 382.5,-710.5 382.5,-664.5 81.5,-664.5\" stroke=\"#000000\"/>\n<text fill=\"#000000\" font-family=\"Times,serif\" font-size=\"14.00\" text-anchor=\"middle\" x=\"148\" y=\"-683.8\">conv1d_1: Conv1D</text>\n<polyline fill=\"none\" points=\"214.5,-664.5 214.5,-710.5 \" stroke=\"#000000\"/>\n<text fill=\"#000000\" font-family=\"Times,serif\" font-size=\"14.00\" text-anchor=\"middle\" x=\"243.5\" y=\"-695.3\">input:</text>\n<polyline fill=\"none\" points=\"214.5,-687.5 272.5,-687.5 \" stroke=\"#000000\"/>\n<text fill=\"#000000\" font-family=\"Times,serif\" font-size=\"14.00\" text-anchor=\"middle\" x=\"243.5\" y=\"-672.3\">output:</text>\n<polyline fill=\"none\" points=\"272.5,-664.5 272.5,-710.5 \" stroke=\"#000000\"/>\n<text fill=\"#000000\" font-family=\"Times,serif\" font-size=\"14.00\" text-anchor=\"middle\" x=\"327.5\" y=\"-695.3\">(None, 42, 100)</text>\n<polyline fill=\"none\" points=\"272.5,-687.5 382.5,-687.5 \" stroke=\"#000000\"/>\n<text fill=\"#000000\" font-family=\"Times,serif\" font-size=\"14.00\" text-anchor=\"middle\" x=\"327.5\" y=\"-672.3\">(None, 42, 64)</text>\n</g>\n<!-- 140186993768656&#45;&gt;140186993768544 -->\n<g class=\"edge\" id=\"edge2\">\n<title>140186993768656-&gt;140186993768544</title>\n<path d=\"M232,-747.3799C232,-739.1745 232,-729.7679 232,-720.8786\" fill=\"none\" stroke=\"#000000\"/>\n<polygon fill=\"#000000\" points=\"235.5001,-720.784 232,-710.784 228.5001,-720.784 235.5001,-720.784\" stroke=\"#000000\"/>\n</g>\n<!-- 140186993769608 -->\n<g class=\"node\" id=\"node4\">\n<title>140186993769608</title>\n<polygon fill=\"none\" points=\"41.5,-581.5 41.5,-627.5 422.5,-627.5 422.5,-581.5 41.5,-581.5\" stroke=\"#000000\"/>\n<text fill=\"#000000\" font-family=\"Times,serif\" font-size=\"14.00\" text-anchor=\"middle\" x=\"152\" y=\"-600.8\">max_pooling1d_1: MaxPooling1D</text>\n<polyline fill=\"none\" points=\"262.5,-581.5 262.5,-627.5 \" stroke=\"#000000\"/>\n<text fill=\"#000000\" font-family=\"Times,serif\" font-size=\"14.00\" text-anchor=\"middle\" x=\"291.5\" y=\"-612.3\">input:</text>\n<polyline fill=\"none\" points=\"262.5,-604.5 320.5,-604.5 \" stroke=\"#000000\"/>\n<text fill=\"#000000\" font-family=\"Times,serif\" font-size=\"14.00\" text-anchor=\"middle\" x=\"291.5\" y=\"-589.3\">output:</text>\n<polyline fill=\"none\" points=\"320.5,-581.5 320.5,-627.5 \" stroke=\"#000000\"/>\n<text fill=\"#000000\" font-family=\"Times,serif\" font-size=\"14.00\" text-anchor=\"middle\" x=\"371.5\" y=\"-612.3\">(None, 42, 64)</text>\n<polyline fill=\"none\" points=\"320.5,-604.5 422.5,-604.5 \" stroke=\"#000000\"/>\n<text fill=\"#000000\" font-family=\"Times,serif\" font-size=\"14.00\" text-anchor=\"middle\" x=\"371.5\" y=\"-589.3\">(None, 21, 64)</text>\n</g>\n<!-- 140186993768544&#45;&gt;140186993769608 -->\n<g class=\"edge\" id=\"edge3\">\n<title>140186993768544-&gt;140186993769608</title>\n<path d=\"M232,-664.3799C232,-656.1745 232,-646.7679 232,-637.8786\" fill=\"none\" stroke=\"#000000\"/>\n<polygon fill=\"#000000\" points=\"235.5001,-637.784 232,-627.784 228.5001,-637.784 235.5001,-637.784\" stroke=\"#000000\"/>\n</g>\n<!-- 140186953591888 -->\n<g class=\"node\" id=\"node5\">\n<title>140186953591888</title>\n<polygon fill=\"none\" points=\"16.5,-498.5 16.5,-544.5 447.5,-544.5 447.5,-498.5 16.5,-498.5\" stroke=\"#000000\"/>\n<text fill=\"#000000\" font-family=\"Times,serif\" font-size=\"14.00\" text-anchor=\"middle\" x=\"152\" y=\"-517.8\">batch_normalization_1: BatchNormalization</text>\n<polyline fill=\"none\" points=\"287.5,-498.5 287.5,-544.5 \" stroke=\"#000000\"/>\n<text fill=\"#000000\" font-family=\"Times,serif\" font-size=\"14.00\" text-anchor=\"middle\" x=\"316.5\" y=\"-529.3\">input:</text>\n<polyline fill=\"none\" points=\"287.5,-521.5 345.5,-521.5 \" stroke=\"#000000\"/>\n<text fill=\"#000000\" font-family=\"Times,serif\" font-size=\"14.00\" text-anchor=\"middle\" x=\"316.5\" y=\"-506.3\">output:</text>\n<polyline fill=\"none\" points=\"345.5,-498.5 345.5,-544.5 \" stroke=\"#000000\"/>\n<text fill=\"#000000\" font-family=\"Times,serif\" font-size=\"14.00\" text-anchor=\"middle\" x=\"396.5\" y=\"-529.3\">(None, 21, 64)</text>\n<polyline fill=\"none\" points=\"345.5,-521.5 447.5,-521.5 \" stroke=\"#000000\"/>\n<text fill=\"#000000\" font-family=\"Times,serif\" font-size=\"14.00\" text-anchor=\"middle\" x=\"396.5\" y=\"-506.3\">(None, 21, 64)</text>\n</g>\n<!-- 140186993769608&#45;&gt;140186953591888 -->\n<g class=\"edge\" id=\"edge4\">\n<title>140186993769608-&gt;140186953591888</title>\n<path d=\"M232,-581.3799C232,-573.1745 232,-563.7679 232,-554.8786\" fill=\"none\" stroke=\"#000000\"/>\n<polygon fill=\"#000000\" points=\"235.5001,-554.784 232,-544.784 228.5001,-554.784 235.5001,-554.784\" stroke=\"#000000\"/>\n</g>\n<!-- 140186993865056 -->\n<g class=\"node\" id=\"node6\">\n<title>140186993865056</title>\n<polygon fill=\"none\" points=\"85.5,-415.5 85.5,-461.5 378.5,-461.5 378.5,-415.5 85.5,-415.5\" stroke=\"#000000\"/>\n<text fill=\"#000000\" font-family=\"Times,serif\" font-size=\"14.00\" text-anchor=\"middle\" x=\"152\" y=\"-434.8\">conv1d_2: Conv1D</text>\n<polyline fill=\"none\" points=\"218.5,-415.5 218.5,-461.5 \" stroke=\"#000000\"/>\n<text fill=\"#000000\" font-family=\"Times,serif\" font-size=\"14.00\" text-anchor=\"middle\" x=\"247.5\" y=\"-446.3\">input:</text>\n<polyline fill=\"none\" points=\"218.5,-438.5 276.5,-438.5 \" stroke=\"#000000\"/>\n<text fill=\"#000000\" font-family=\"Times,serif\" font-size=\"14.00\" text-anchor=\"middle\" x=\"247.5\" y=\"-423.3\">output:</text>\n<polyline fill=\"none\" points=\"276.5,-415.5 276.5,-461.5 \" stroke=\"#000000\"/>\n<text fill=\"#000000\" font-family=\"Times,serif\" font-size=\"14.00\" text-anchor=\"middle\" x=\"327.5\" y=\"-446.3\">(None, 21, 64)</text>\n<polyline fill=\"none\" points=\"276.5,-438.5 378.5,-438.5 \" stroke=\"#000000\"/>\n<text fill=\"#000000\" font-family=\"Times,serif\" font-size=\"14.00\" text-anchor=\"middle\" x=\"327.5\" y=\"-423.3\">(None, 21, 64)</text>\n</g>\n<!-- 140186953591888&#45;&gt;140186993865056 -->\n<g class=\"edge\" id=\"edge5\">\n<title>140186953591888-&gt;140186993865056</title>\n<path d=\"M232,-498.3799C232,-490.1745 232,-480.7679 232,-471.8786\" fill=\"none\" stroke=\"#000000\"/>\n<polygon fill=\"#000000\" points=\"235.5001,-471.784 232,-461.784 228.5001,-471.784 235.5001,-471.784\" stroke=\"#000000\"/>\n</g>\n<!-- 140186994235992 -->\n<g class=\"node\" id=\"node7\">\n<title>140186994235992</title>\n<polygon fill=\"none\" points=\"0,-332.5 0,-378.5 464,-378.5 464,-332.5 0,-332.5\" stroke=\"#000000\"/>\n<text fill=\"#000000\" font-family=\"Times,serif\" font-size=\"14.00\" text-anchor=\"middle\" x=\"152\" y=\"-351.8\">global_max_pooling1d_1: GlobalMaxPooling1D</text>\n<polyline fill=\"none\" points=\"304,-332.5 304,-378.5 \" stroke=\"#000000\"/>\n<text fill=\"#000000\" font-family=\"Times,serif\" font-size=\"14.00\" text-anchor=\"middle\" x=\"333\" y=\"-363.3\">input:</text>\n<polyline fill=\"none\" points=\"304,-355.5 362,-355.5 \" stroke=\"#000000\"/>\n<text fill=\"#000000\" font-family=\"Times,serif\" font-size=\"14.00\" text-anchor=\"middle\" x=\"333\" y=\"-340.3\">output:</text>\n<polyline fill=\"none\" points=\"362,-332.5 362,-378.5 \" stroke=\"#000000\"/>\n<text fill=\"#000000\" font-family=\"Times,serif\" font-size=\"14.00\" text-anchor=\"middle\" x=\"413\" y=\"-363.3\">(None, 21, 64)</text>\n<polyline fill=\"none\" points=\"362,-355.5 464,-355.5 \" stroke=\"#000000\"/>\n<text fill=\"#000000\" font-family=\"Times,serif\" font-size=\"14.00\" text-anchor=\"middle\" x=\"413\" y=\"-340.3\">(None, 64)</text>\n</g>\n<!-- 140186993865056&#45;&gt;140186994235992 -->\n<g class=\"edge\" id=\"edge6\">\n<title>140186993865056-&gt;140186994235992</title>\n<path d=\"M232,-415.3799C232,-407.1745 232,-397.7679 232,-388.8786\" fill=\"none\" stroke=\"#000000\"/>\n<polygon fill=\"#000000\" points=\"235.5001,-388.784 232,-378.784 228.5001,-388.784 235.5001,-388.784\" stroke=\"#000000\"/>\n</g>\n<!-- 140186953717128 -->\n<g class=\"node\" id=\"node8\">\n<title>140186953717128</title>\n<polygon fill=\"none\" points=\"27.5,-249.5 27.5,-295.5 436.5,-295.5 436.5,-249.5 27.5,-249.5\" stroke=\"#000000\"/>\n<text fill=\"#000000\" font-family=\"Times,serif\" font-size=\"14.00\" text-anchor=\"middle\" x=\"163\" y=\"-268.8\">batch_normalization_2: BatchNormalization</text>\n<polyline fill=\"none\" points=\"298.5,-249.5 298.5,-295.5 \" stroke=\"#000000\"/>\n<text fill=\"#000000\" font-family=\"Times,serif\" font-size=\"14.00\" text-anchor=\"middle\" x=\"327.5\" y=\"-280.3\">input:</text>\n<polyline fill=\"none\" points=\"298.5,-272.5 356.5,-272.5 \" stroke=\"#000000\"/>\n<text fill=\"#000000\" font-family=\"Times,serif\" font-size=\"14.00\" text-anchor=\"middle\" x=\"327.5\" y=\"-257.3\">output:</text>\n<polyline fill=\"none\" points=\"356.5,-249.5 356.5,-295.5 \" stroke=\"#000000\"/>\n<text fill=\"#000000\" font-family=\"Times,serif\" font-size=\"14.00\" text-anchor=\"middle\" x=\"396.5\" y=\"-280.3\">(None, 64)</text>\n<polyline fill=\"none\" points=\"356.5,-272.5 436.5,-272.5 \" stroke=\"#000000\"/>\n<text fill=\"#000000\" font-family=\"Times,serif\" font-size=\"14.00\" text-anchor=\"middle\" x=\"396.5\" y=\"-257.3\">(None, 64)</text>\n</g>\n<!-- 140186994235992&#45;&gt;140186953717128 -->\n<g class=\"edge\" id=\"edge7\">\n<title>140186994235992-&gt;140186953717128</title>\n<path d=\"M232,-332.3799C232,-324.1745 232,-314.7679 232,-305.8786\" fill=\"none\" stroke=\"#000000\"/>\n<polygon fill=\"#000000\" points=\"235.5001,-305.784 232,-295.784 228.5001,-305.784 235.5001,-305.784\" stroke=\"#000000\"/>\n</g>\n<!-- 140186953772504 -->\n<g class=\"node\" id=\"node9\">\n<title>140186953772504</title>\n<polygon fill=\"none\" points=\"96,-166.5 96,-212.5 368,-212.5 368,-166.5 96,-166.5\" stroke=\"#000000\"/>\n<text fill=\"#000000\" font-family=\"Times,serif\" font-size=\"14.00\" text-anchor=\"middle\" x=\"163\" y=\"-185.8\">dropout_1: Dropout</text>\n<polyline fill=\"none\" points=\"230,-166.5 230,-212.5 \" stroke=\"#000000\"/>\n<text fill=\"#000000\" font-family=\"Times,serif\" font-size=\"14.00\" text-anchor=\"middle\" x=\"259\" y=\"-197.3\">input:</text>\n<polyline fill=\"none\" points=\"230,-189.5 288,-189.5 \" stroke=\"#000000\"/>\n<text fill=\"#000000\" font-family=\"Times,serif\" font-size=\"14.00\" text-anchor=\"middle\" x=\"259\" y=\"-174.3\">output:</text>\n<polyline fill=\"none\" points=\"288,-166.5 288,-212.5 \" stroke=\"#000000\"/>\n<text fill=\"#000000\" font-family=\"Times,serif\" font-size=\"14.00\" text-anchor=\"middle\" x=\"328\" y=\"-197.3\">(None, 64)</text>\n<polyline fill=\"none\" points=\"288,-189.5 368,-189.5 \" stroke=\"#000000\"/>\n<text fill=\"#000000\" font-family=\"Times,serif\" font-size=\"14.00\" text-anchor=\"middle\" x=\"328\" y=\"-174.3\">(None, 64)</text>\n</g>\n<!-- 140186953717128&#45;&gt;140186953772504 -->\n<g class=\"edge\" id=\"edge8\">\n<title>140186953717128-&gt;140186953772504</title>\n<path d=\"M232,-249.3799C232,-241.1745 232,-231.7679 232,-222.8786\" fill=\"none\" stroke=\"#000000\"/>\n<polygon fill=\"#000000\" points=\"235.5001,-222.784 232,-212.784 228.5001,-222.784 235.5001,-222.784\" stroke=\"#000000\"/>\n</g>\n<!-- 140186953524784 -->\n<g class=\"node\" id=\"node10\">\n<title>140186953524784</title>\n<polygon fill=\"none\" points=\"109.5,-83.5 109.5,-129.5 354.5,-129.5 354.5,-83.5 109.5,-83.5\" stroke=\"#000000\"/>\n<text fill=\"#000000\" font-family=\"Times,serif\" font-size=\"14.00\" text-anchor=\"middle\" x=\"163\" y=\"-102.8\">dense_1: Dense</text>\n<polyline fill=\"none\" points=\"216.5,-83.5 216.5,-129.5 \" stroke=\"#000000\"/>\n<text fill=\"#000000\" font-family=\"Times,serif\" font-size=\"14.00\" text-anchor=\"middle\" x=\"245.5\" y=\"-114.3\">input:</text>\n<polyline fill=\"none\" points=\"216.5,-106.5 274.5,-106.5 \" stroke=\"#000000\"/>\n<text fill=\"#000000\" font-family=\"Times,serif\" font-size=\"14.00\" text-anchor=\"middle\" x=\"245.5\" y=\"-91.3\">output:</text>\n<polyline fill=\"none\" points=\"274.5,-83.5 274.5,-129.5 \" stroke=\"#000000\"/>\n<text fill=\"#000000\" font-family=\"Times,serif\" font-size=\"14.00\" text-anchor=\"middle\" x=\"314.5\" y=\"-114.3\">(None, 64)</text>\n<polyline fill=\"none\" points=\"274.5,-106.5 354.5,-106.5 \" stroke=\"#000000\"/>\n<text fill=\"#000000\" font-family=\"Times,serif\" font-size=\"14.00\" text-anchor=\"middle\" x=\"314.5\" y=\"-91.3\">(None, 32)</text>\n</g>\n<!-- 140186953772504&#45;&gt;140186953524784 -->\n<g class=\"edge\" id=\"edge9\">\n<title>140186953772504-&gt;140186953524784</title>\n<path d=\"M232,-166.3799C232,-158.1745 232,-148.7679 232,-139.8786\" fill=\"none\" stroke=\"#000000\"/>\n<polygon fill=\"#000000\" points=\"235.5001,-139.784 232,-129.784 228.5001,-139.784 235.5001,-139.784\" stroke=\"#000000\"/>\n</g>\n<!-- 140186953773008 -->\n<g class=\"node\" id=\"node11\">\n<title>140186953773008</title>\n<polygon fill=\"none\" points=\"109.5,-.5 109.5,-46.5 354.5,-46.5 354.5,-.5 109.5,-.5\" stroke=\"#000000\"/>\n<text fill=\"#000000\" font-family=\"Times,serif\" font-size=\"14.00\" text-anchor=\"middle\" x=\"163\" y=\"-19.8\">dense_2: Dense</text>\n<polyline fill=\"none\" points=\"216.5,-.5 216.5,-46.5 \" stroke=\"#000000\"/>\n<text fill=\"#000000\" font-family=\"Times,serif\" font-size=\"14.00\" text-anchor=\"middle\" x=\"245.5\" y=\"-31.3\">input:</text>\n<polyline fill=\"none\" points=\"216.5,-23.5 274.5,-23.5 \" stroke=\"#000000\"/>\n<text fill=\"#000000\" font-family=\"Times,serif\" font-size=\"14.00\" text-anchor=\"middle\" x=\"245.5\" y=\"-8.3\">output:</text>\n<polyline fill=\"none\" points=\"274.5,-.5 274.5,-46.5 \" stroke=\"#000000\"/>\n<text fill=\"#000000\" font-family=\"Times,serif\" font-size=\"14.00\" text-anchor=\"middle\" x=\"314.5\" y=\"-31.3\">(None, 32)</text>\n<polyline fill=\"none\" points=\"274.5,-23.5 354.5,-23.5 \" stroke=\"#000000\"/>\n<text fill=\"#000000\" font-family=\"Times,serif\" font-size=\"14.00\" text-anchor=\"middle\" x=\"314.5\" y=\"-8.3\">(None, 3)</text>\n</g>\n<!-- 140186953524784&#45;&gt;140186953773008 -->\n<g class=\"edge\" id=\"edge10\">\n<title>140186953524784-&gt;140186953773008</title>\n<path d=\"M232,-83.3799C232,-75.1745 232,-65.7679 232,-56.8786\" fill=\"none\" stroke=\"#000000\"/>\n<polygon fill=\"#000000\" points=\"235.5001,-56.784 232,-46.784 228.5001,-56.784 235.5001,-56.784\" stroke=\"#000000\"/>\n</g>\n</g>\n</svg>"
          },
          "metadata": {
            "tags": []
          },
          "execution_count": 18
        }
      ]
    },
    {
      "cell_type": "code",
      "metadata": {
        "id": "oXnGnl2QqB8F",
        "colab_type": "code",
        "colab": {}
      },
      "source": [
        ""
      ],
      "execution_count": null,
      "outputs": []
    }
  ]
}