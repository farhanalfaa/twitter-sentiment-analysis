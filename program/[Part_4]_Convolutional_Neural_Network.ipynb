{
  "nbformat": 4,
  "nbformat_minor": 0,
  "metadata": {
    "colab": {
      "name": "[Part 4] Convolutional Neural Network.ipynb",
      "provenance": [],
      "collapsed_sections": []
    },
    "kernelspec": {
      "name": "python3",
      "display_name": "Python 3"
    }
  },
  "cells": [
    {
      "cell_type": "markdown",
      "metadata": {
        "id": "GAXplDAy1IGM",
        "colab_type": "text"
      },
      "source": [
        "# **Sentiment Classification with Convolutional Neural Networks**"
      ]
    },
    {
      "cell_type": "markdown",
      "metadata": {
        "id": "l5lZIHQfk3Ch",
        "colab_type": "text"
      },
      "source": [
        "### **[Part 1] Google Drive Mount**"
      ]
    },
    {
      "cell_type": "code",
      "metadata": {
        "id": "1vcU87LVk1V2",
        "colab_type": "code",
        "outputId": "f206b3bd-70ec-47a3-a63c-47731c97d7bf",
        "colab": {
          "base_uri": "https://localhost:8080/",
          "height": 34
        }
      },
      "source": [
        "from google.colab import drive\n",
        "drive.mount('/content/drive')"
      ],
      "execution_count": 1,
      "outputs": [
        {
          "output_type": "stream",
          "text": [
            "Drive already mounted at /content/drive; to attempt to forcibly remount, call drive.mount(\"/content/drive\", force_remount=True).\n"
          ],
          "name": "stdout"
        }
      ]
    },
    {
      "cell_type": "markdown",
      "metadata": {
        "id": "R8hg3LdJ1QYI",
        "colab_type": "text"
      },
      "source": [
        "\n",
        "\n",
        "---\n",
        "\n"
      ]
    },
    {
      "cell_type": "markdown",
      "metadata": {
        "id": "nCAM6rFSkmEg",
        "colab_type": "text"
      },
      "source": [
        "### **[Part 2] Install Library**"
      ]
    },
    {
      "cell_type": "code",
      "metadata": {
        "id": "Hgxk2Qb-3oPF",
        "colab_type": "code",
        "outputId": "aae8d817-2dbf-4bc7-83c4-3fa101a851cc",
        "colab": {
          "base_uri": "https://localhost:8080/",
          "height": 88
        }
      },
      "source": [
        "import keras\n",
        "from keras import optimizers\n",
        "from keras import backend as K\n",
        "from keras import regularizers\n",
        "from keras.models import Sequential\n",
        "from keras.layers import Dense, Activation, Dropout\n",
        "from keras.layers import Embedding, Conv1D, MaxPooling1D, GlobalMaxPooling1D \n",
        "from keras.layers.normalization import BatchNormalization\n",
        "from keras.utils import to_categorical\n",
        "from keras.preprocessing import sequence\n",
        "from keras.preprocessing.text import Tokenizer\n",
        "from keras.callbacks import EarlyStopping\n",
        "\n",
        "import pandas as pd\n",
        "import numpy as np\n",
        "import matplotlib.pyplot as plt\n",
        "import seaborn as sns\n",
        "import codecs\n",
        "\n",
        "from tqdm import tqdm\n",
        "plt.style.use('bmh')"
      ],
      "execution_count": 2,
      "outputs": [
        {
          "output_type": "stream",
          "text": [
            "Using TensorFlow backend.\n",
            "/usr/local/lib/python3.6/dist-packages/statsmodels/tools/_testing.py:19: FutureWarning: pandas.util.testing is deprecated. Use the functions in the public API at pandas.testing instead.\n",
            "  import pandas.util.testing as tm\n"
          ],
          "name": "stderr"
        }
      ]
    },
    {
      "cell_type": "markdown",
      "metadata": {
        "id": "pNRp-euD1Um4",
        "colab_type": "text"
      },
      "source": [
        "\n",
        "\n",
        "---\n",
        "\n"
      ]
    },
    {
      "cell_type": "markdown",
      "metadata": {
        "id": "hItpILGBw594",
        "colab_type": "text"
      },
      "source": [
        "### **[Part 3] Load Dataset**"
      ]
    },
    {
      "cell_type": "code",
      "metadata": {
        "id": "kYJzhK_v6tOm",
        "colab_type": "code",
        "colab": {}
      },
      "source": [
        "train = pd.read_excel('/content/drive/My Drive/Tugas_Akhir/dataset/train.xlsx', index_col=0)"
      ],
      "execution_count": 0,
      "outputs": []
    },
    {
      "cell_type": "code",
      "metadata": {
        "id": "5KJPfOJi7Q5o",
        "colab_type": "code",
        "colab": {}
      },
      "source": [
        "y_train = train['label'].tolist()"
      ],
      "execution_count": 0,
      "outputs": []
    },
    {
      "cell_type": "markdown",
      "metadata": {
        "id": "2gxbTMg_1Zga",
        "colab_type": "text"
      },
      "source": [
        "\n",
        "\n",
        "---\n",
        "\n"
      ]
    },
    {
      "cell_type": "markdown",
      "metadata": {
        "id": "P-aaHJOGlpjU",
        "colab_type": "text"
      },
      "source": [
        "### **[Part 4] Load FastText Model**"
      ]
    },
    {
      "cell_type": "code",
      "metadata": {
        "id": "ADSR-jFv7VAz",
        "colab_type": "code",
        "outputId": "ff5ba095-c65c-47d7-d2bd-e091149b9d88",
        "colab": {
          "base_uri": "https://localhost:8080/",
          "height": 170
        }
      },
      "source": [
        "print('\\n=============================')\n",
        "print(' > Loading Word Embeddings > ')\n",
        "print('=============================')\n",
        "\n",
        "embeddings_index = {}\n",
        "\n",
        "f = codecs.open('/content/drive/My Drive/Tugas_Akhir/model/ft_model.vec', encoding='utf-8')\n",
        "\n",
        "for line in tqdm(f):\n",
        "  values = line.rstrip().rsplit(' ')\n",
        "  word = values[0]\n",
        "  coefs = np.asarray(values[1:], dtype='float32')\n",
        "  embeddings_index[word] = coefs\n",
        "\n",
        "f.close()\n",
        "\n",
        "print('\\n\\nNumber of Word Vectors : ', len(embeddings_index))\n",
        "print('Number of Train Data   : ', train.shape[0])"
      ],
      "execution_count": 5,
      "outputs": [
        {
          "output_type": "stream",
          "text": [
            "2158it [00:00, 21571.59it/s]"
          ],
          "name": "stderr"
        },
        {
          "output_type": "stream",
          "text": [
            "\n",
            "=============================\n",
            " > Loading Word Embeddings > \n",
            "=============================\n"
          ],
          "name": "stdout"
        },
        {
          "output_type": "stream",
          "text": [
            "201428it [00:09, 20983.62it/s]"
          ],
          "name": "stderr"
        },
        {
          "output_type": "stream",
          "text": [
            "\n",
            "\n",
            "Number of Word Vectors :  201428\n",
            "Number of Train Data   :  2900\n"
          ],
          "name": "stdout"
        },
        {
          "output_type": "stream",
          "text": [
            "\n"
          ],
          "name": "stderr"
        }
      ]
    },
    {
      "cell_type": "markdown",
      "metadata": {
        "id": "51BgUZ7p1lGu",
        "colab_type": "text"
      },
      "source": [
        "\n",
        "\n",
        "---\n",
        "\n"
      ]
    },
    {
      "cell_type": "markdown",
      "metadata": {
        "id": "AlOz5tMH1nOU",
        "colab_type": "text"
      },
      "source": [
        "### **[Part 5] Comment Length Visualization**"
      ]
    },
    {
      "cell_type": "code",
      "metadata": {
        "id": "pDJ37Wl67gu5",
        "colab_type": "code",
        "outputId": "17a0d0f2-bbaf-4058-cb53-2176e5a68391",
        "colab": {
          "base_uri": "https://localhost:8080/",
          "height": 303
        }
      },
      "source": [
        "label_names = ['positive', 'neutral','negative']\n",
        "\n",
        "train['doc_len'] = train['text'].apply(lambda words: len(words.split(' ')))\n",
        "\n",
        "max_seq_len = np.round(train['doc_len'].mean() + train['doc_len'].std()).astype(int)\n",
        "\n",
        "fig, ax = plt.subplots(figsize=(6,4))\n",
        "\n",
        "train['doc_len'].plot(kind='hist',\n",
        "                      density=True,\n",
        "                      alpha=0.65,\n",
        "                      bins=15)\n",
        "\n",
        "train['doc_len'].plot(kind='kde')\n",
        "\n",
        "ax.set_xlim(-5, 40)\n",
        "ax.set_xlabel(\"Doc Length\")\n",
        "ax.set_ylim(0, 0.13)\n",
        "ax.set_yticks([])\n",
        "ax.set_ylabel(\"\")\n",
        "ax.set_title(\"Comment Length\", size=17, pad=10)\n",
        "ax.grid(False)\n",
        "ax.axvline(x=max_seq_len, alpha=0.65, color='k', linestyle=':', label='max len')\n",
        "ax.tick_params(left = False, bottom = False)\n",
        "for ax, spine in ax.spines.items():\n",
        "    spine.set_visible(False)\n",
        "\n",
        "plt.legend()\n",
        "plt.show()"
      ],
      "execution_count": 6,
      "outputs": [
        {
          "output_type": "display_data",
          "data": {
            "image/png": "[encoded data removed]",
            "text/plain": [
              "<Figure size 432x288 with 1 Axes>"
            ]
          },
          "metadata": {
            "tags": [],
            "needs_background": "light"
          }
        }
      ]
    },
    {
      "cell_type": "markdown",
      "metadata": {
        "id": "T5rv7_Sn1tH7",
        "colab_type": "text"
      },
      "source": [
        "\n",
        "\n",
        "---\n",
        "\n"
      ]
    },
    {
      "cell_type": "markdown",
      "metadata": {
        "id": "3zW5kUQU1v6G",
        "colab_type": "text"
      },
      "source": [
        "### **[Part 6] Tokenizing Training Data**"
      ]
    },
    {
      "cell_type": "code",
      "metadata": {
        "id": "BVqPrmgY7l17",
        "colab_type": "code",
        "outputId": "d4b9023c-ff61-41d1-de6d-8bebe1a636db",
        "colab": {
          "base_uri": "https://localhost:8080/",
          "height": 85
        }
      },
      "source": [
        "raw_docs_train = train['text'].tolist()\n",
        "\n",
        "MAX_NB_WORDS = 100000\n",
        "num_classes = len(label_names)\n",
        "\n",
        "print('=============================')\n",
        "print(' >> Tokenizing Input Data >> ')\n",
        "print('=============================')\n",
        "\n",
        "tokenizer = Tokenizer(num_words=MAX_NB_WORDS,\n",
        "                      lower=True,\n",
        "                      char_level=False)\n",
        "tokenizer.fit_on_texts(raw_docs_train)\n",
        "\n",
        "\n",
        "word_seq_train = tokenizer.texts_to_sequences(raw_docs_train)\n",
        "\n",
        "word_index = tokenizer.word_index\n",
        "\n",
        "print('Dictionary Size: ', len(word_index))\n",
        "\n",
        "word_seq_train = sequence.pad_sequences(word_seq_train, maxlen = max_seq_len)"
      ],
      "execution_count": 7,
      "outputs": [
        {
          "output_type": "stream",
          "text": [
            "=============================\n",
            " >> Tokenizing Input Data >> \n",
            "=============================\n",
            "Dictionary Size:  6560\n"
          ],
          "name": "stdout"
        }
      ]
    },
    {
      "cell_type": "markdown",
      "metadata": {
        "id": "aLqYW2Mp125j",
        "colab_type": "text"
      },
      "source": [
        "\n",
        "\n",
        "---\n",
        "\n"
      ]
    },
    {
      "cell_type": "markdown",
      "metadata": {
        "id": "Fqdwo_2o13_Y",
        "colab_type": "text"
      },
      "source": [
        "### **[Part 7] Hyperparameters**"
      ]
    },
    {
      "cell_type": "code",
      "metadata": {
        "id": "C7hu5p0H7oin",
        "colab_type": "code",
        "colab": {}
      },
      "source": [
        "batch_size = 256\n",
        "num_epochs = 16\n",
        "\n",
        "num_filters = 64\n",
        "embed_dim   = 100\n",
        "weight_decay = 1e-4"
      ],
      "execution_count": 0,
      "outputs": []
    },
    {
      "cell_type": "markdown",
      "metadata": {
        "id": "XZHQydcb1-t9",
        "colab_type": "text"
      },
      "source": [
        "\n",
        "\n",
        "---\n",
        "\n"
      ]
    },
    {
      "cell_type": "markdown",
      "metadata": {
        "id": "CUn_Okgy1_rx",
        "colab_type": "text"
      },
      "source": [
        "### **[Part 8] Embedding Matrix**"
      ]
    },
    {
      "cell_type": "code",
      "metadata": {
        "id": "OK5Kglki7q24",
        "colab_type": "code",
        "outputId": "23507436-4a58-46c7-ec45-42f8c8d4e3f7",
        "colab": {
          "base_uri": "https://localhost:8080/",
          "height": 68
        }
      },
      "source": [
        "print('==================================')\n",
        "print(' >> Preparing Embedding Matrix >> ')\n",
        "print('==================================')\n",
        "\n",
        "words_not_found = []\n",
        "\n",
        "nb_words = min(MAX_NB_WORDS, len(word_index))\n",
        "\n",
        "embedding_matrix = np.zeros((nb_words+1, embed_dim))\n",
        "\n",
        "for word, i in word_index.items():\n",
        "  if i >= nb_words:\n",
        "    continue\n",
        "  embedding_vector = embeddings_index.get(word)\n",
        "  if (embedding_vector is not None) and len(embedding_vector) > 0:\n",
        "    embedding_matrix[i] = embedding_vector\n",
        "  else:\n",
        "    words_not_found.append(word)"
      ],
      "execution_count": 21,
      "outputs": [
        {
          "output_type": "stream",
          "text": [
            "==================================\n",
            " >> Preparing Embedding Matrix >> \n",
            "==================================\n"
          ],
          "name": "stdout"
        }
      ]
    },
    {
      "cell_type": "markdown",
      "metadata": {
        "id": "nE8EPkbi2EA0",
        "colab_type": "text"
      },
      "source": [
        "\n",
        "\n",
        "---\n",
        "\n"
      ]
    },
    {
      "cell_type": "markdown",
      "metadata": {
        "id": "EaYrj0N82cUW",
        "colab_type": "text"
      },
      "source": [
        "### **[Part 9] Convert into Categorical Data**"
      ]
    },
    {
      "cell_type": "code",
      "metadata": {
        "id": "mIKf7yGv70T_",
        "colab_type": "code",
        "colab": {}
      },
      "source": [
        "target = []\n",
        "\n",
        "for i in train['label']:\n",
        "  if i == -1:\n",
        "    target.append(0)\n",
        "  elif i == 0:\n",
        "    target.append(1)\n",
        "  elif i == 1:\n",
        "    target.append(2)\n",
        "\n",
        "train['new_label'] = target"
      ],
      "execution_count": 0,
      "outputs": []
    },
    {
      "cell_type": "code",
      "metadata": {
        "id": "-WgLD9xx72-m",
        "colab_type": "code",
        "colab": {}
      },
      "source": [
        "from keras.utils import to_categorical\n",
        "\n",
        "train_labels = to_categorical(train['new_label'])"
      ],
      "execution_count": 0,
      "outputs": []
    },
    {
      "cell_type": "markdown",
      "metadata": {
        "id": "BdxQBuDk2jDO",
        "colab_type": "text"
      },
      "source": [
        "\n",
        "---\n",
        "\n"
      ]
    },
    {
      "cell_type": "markdown",
      "metadata": {
        "id": "uUvxboZ22l8D",
        "colab_type": "text"
      },
      "source": [
        "### **[Part 10] Early Stopping for Avoid Overfitting Model**"
      ]
    },
    {
      "cell_type": "code",
      "metadata": {
        "id": "xBVOJ9m87wsd",
        "colab_type": "code",
        "colab": {}
      },
      "source": [
        "early_stopping = EarlyStopping(monitor='val_loss',\n",
        "                               min_delta=0.01,\n",
        "                               patience=3,\n",
        "                               verbose=1)\n",
        "\n",
        "callbacks_list = [early_stopping]"
      ],
      "execution_count": 0,
      "outputs": []
    },
    {
      "cell_type": "markdown",
      "metadata": {
        "id": "COEH7SWf2tVc",
        "colab_type": "text"
      },
      "source": [
        "\n",
        "---\n",
        "\n"
      ]
    },
    {
      "cell_type": "markdown",
      "metadata": {
        "id": "NWxdVtxC2uSU",
        "colab_type": "text"
      },
      "source": [
        "### **[Part 11] Conv. Neural Network Training**"
      ]
    },
    {
      "cell_type": "code",
      "metadata": {
        "id": "eFHAMyfM7ucF",
        "colab_type": "code",
        "outputId": "e97a6bab-c4c9-49f1-ac88-eb0598ead367",
        "colab": {
          "base_uri": "https://localhost:8080/",
          "height": 544
        }
      },
      "source": [
        "print('=============================')\n",
        "print('    >>> Training CNN >>>     ')\n",
        "print('=============================')\n",
        "\n",
        "model = Sequential()\n",
        "model.add(Embedding(nb_words+1, embed_dim,\n",
        "                    weights=[embedding_matrix],\n",
        "                    input_length=max_seq_len,\n",
        "                    trainable=False))\n",
        "model.add(Conv1D(num_filters, 7, activation='relu', padding='same'))\n",
        "model.add(MaxPooling1D(2))\n",
        "model.add(BatchNormalization())\n",
        "model.add(Conv1D(num_filters, 7, activation='relu', padding='same'))\n",
        "model.add(GlobalMaxPooling1D())\n",
        "model.add(BatchNormalization())\n",
        "model.add(Dropout(0.5))\n",
        "model.add(Dense(32, activation='relu', kernel_regularizer=regularizers.l2(weight_decay)))\n",
        "model.add(Dense(num_classes, activation='softmax'))\n",
        "\n",
        "adam = optimizers.Adam(lr = 0.01,\n",
        "                      beta_1 = 0.9,\n",
        "                      beta_2 = 0.999,\n",
        "                      epsilon=1e-08,\n",
        "                      decay=0.0)\n",
        "\n",
        "model.compile(loss='categorical_crossentropy', optimizer='adam', metrics=['accuracy'])\n",
        "model.summary()"
      ],
      "execution_count": 14,
      "outputs": [
        {
          "output_type": "stream",
          "text": [
            "=============================\n",
            "    >>> Training CNN >>>     \n",
            "=============================\n",
            "Model: \"sequential_1\"\n",
            "_________________________________________________________________\n",
            "Layer (type)                 Output Shape              Param #   \n",
            "=================================================================\n",
            "embedding_1 (Embedding)      (None, 13, 100)           656100    \n",
            "_________________________________________________________________\n",
            "conv1d_1 (Conv1D)            (None, 13, 64)            44864     \n",
            "_________________________________________________________________\n",
            "max_pooling1d_1 (MaxPooling1 (None, 6, 64)             0         \n",
            "_________________________________________________________________\n",
            "batch_normalization_1 (Batch (None, 6, 64)             256       \n",
            "_________________________________________________________________\n",
            "conv1d_2 (Conv1D)            (None, 6, 64)             28736     \n",
            "_________________________________________________________________\n",
            "global_max_pooling1d_1 (Glob (None, 64)                0         \n",
            "_________________________________________________________________\n",
            "batch_normalization_2 (Batch (None, 64)                256       \n",
            "_________________________________________________________________\n",
            "dropout_1 (Dropout)          (None, 64)                0         \n",
            "_________________________________________________________________\n",
            "dense_1 (Dense)              (None, 32)                2080      \n",
            "_________________________________________________________________\n",
            "dense_2 (Dense)              (None, 3)                 99        \n",
            "=================================================================\n",
            "Total params: 732,391\n",
            "Trainable params: 76,035\n",
            "Non-trainable params: 656,356\n",
            "_________________________________________________________________\n"
          ],
          "name": "stdout"
        }
      ]
    },
    {
      "cell_type": "code",
      "metadata": {
        "id": "KSUK-vef77FW",
        "colab_type": "code",
        "outputId": "533ebeb3-676c-4049-da02-adf03409591d",
        "colab": {
          "base_uri": "https://localhost:8080/",
          "height": 527
        }
      },
      "source": [
        "hist = model.fit(word_seq_train,\n",
        "                 train_labels,\n",
        "                 batch_size = batch_size,\n",
        "                 epochs = num_epochs,\n",
        "                 validation_split=0.2,\n",
        "                 callbacks = callbacks_list,\n",
        "                 shuffle=True,\n",
        "                 verbose=2)"
      ],
      "execution_count": 16,
      "outputs": [
        {
          "output_type": "stream",
          "text": [
            "Train on 2320 samples, validate on 580 samples\n",
            "Epoch 1/16\n",
            " - 1s - loss: 1.0370 - accuracy: 0.5591 - val_loss: 0.6097 - val_accuracy: 0.9172\n",
            "Epoch 2/16\n",
            " - 0s - loss: 0.3590 - accuracy: 0.8987 - val_loss: 0.4090 - val_accuracy: 0.9241\n",
            "Epoch 3/16\n",
            " - 0s - loss: 0.2300 - accuracy: 0.9388 - val_loss: 0.3124 - val_accuracy: 0.9310\n",
            "Epoch 4/16\n",
            " - 0s - loss: 0.1771 - accuracy: 0.9483 - val_loss: 0.2610 - val_accuracy: 0.9345\n",
            "Epoch 5/16\n",
            " - 0s - loss: 0.1392 - accuracy: 0.9634 - val_loss: 0.2546 - val_accuracy: 0.9207\n",
            "Epoch 6/16\n",
            " - 0s - loss: 0.1307 - accuracy: 0.9616 - val_loss: 0.2462 - val_accuracy: 0.9207\n",
            "Epoch 7/16\n",
            " - 0s - loss: 0.1121 - accuracy: 0.9711 - val_loss: 0.1884 - val_accuracy: 0.9431\n",
            "Epoch 8/16\n",
            " - 0s - loss: 0.0870 - accuracy: 0.9823 - val_loss: 0.1694 - val_accuracy: 0.9500\n",
            "Epoch 9/16\n",
            " - 0s - loss: 0.0823 - accuracy: 0.9759 - val_loss: 0.1808 - val_accuracy: 0.9448\n",
            "Epoch 10/16\n",
            " - 0s - loss: 0.0769 - accuracy: 0.9815 - val_loss: 0.1464 - val_accuracy: 0.9603\n",
            "Epoch 11/16\n",
            " - 0s - loss: 0.0697 - accuracy: 0.9819 - val_loss: 0.1312 - val_accuracy: 0.9621\n",
            "Epoch 12/16\n",
            " - 0s - loss: 0.0624 - accuracy: 0.9845 - val_loss: 0.1238 - val_accuracy: 0.9655\n",
            "Epoch 13/16\n",
            " - 0s - loss: 0.0550 - accuracy: 0.9879 - val_loss: 0.1237 - val_accuracy: 0.9655\n",
            "Epoch 14/16\n",
            " - 0s - loss: 0.0500 - accuracy: 0.9901 - val_loss: 0.1263 - val_accuracy: 0.9655\n",
            "Epoch 00014: early stopping\n"
          ],
          "name": "stdout"
        }
      ]
    },
    {
      "cell_type": "markdown",
      "metadata": {
        "id": "bs9zRD2l26eV",
        "colab_type": "text"
      },
      "source": [
        "\n",
        "---\n",
        "\n"
      ]
    },
    {
      "cell_type": "markdown",
      "metadata": {
        "id": "K4vFYr2_9LGh",
        "colab_type": "text"
      },
      "source": [
        "### **[Part 12] Loss and Accuracy Visualization**"
      ]
    },
    {
      "cell_type": "code",
      "metadata": {
        "id": "cFA9S7ae8YoQ",
        "colab_type": "code",
        "outputId": "36b04253-0542-42a4-a06d-d91dbe0122aa",
        "colab": {
          "base_uri": "https://localhost:8080/",
          "height": 296
        }
      },
      "source": [
        "fig, (ax1, ax2) = plt.subplots(1, 2, figsize=(12, 4))\n",
        "\n",
        "ax1.plot(hist.history['loss'], lw=2.0, color='b', alpha=0.65, label='train')\n",
        "ax1.plot(hist.history['val_loss'], lw=2.0, color='r', alpha=0.65, label='val')\n",
        "ax1.set_title('Loss Visualization')\n",
        "ax1.set_xlabel('Epochs')\n",
        "ax1.set_ylabel('Cross-Entropy Loss')\n",
        "ax1.legend(loc='upper right')\n",
        "ax2.plot(hist.history['accuracy'], lw=2.0, color='b', alpha=0.65, label='train')\n",
        "ax2.plot(hist.history['val_accuracy'], lw=2.0, color='r', alpha=0.65, label='val')\n",
        "ax2.set_title('Accuracy Visualization')\n",
        "ax2.set_xlabel('Epochs')\n",
        "ax2.set_ylabel('Accuracy')\n",
        "ax2.legend(loc='lower right')\n",
        "\n",
        "ax1.grid(False)\n",
        "ax2.grid(False)\n",
        "\n",
        "ax2.set_ylim(-0.1, 1.1)\n",
        "plt.show()"
      ],
      "execution_count": 17,
      "outputs": [
        {
          "output_type": "display_data",
          "data": {
            "image/png": "[encoded data removed]",
            "text/plain": [
              "<Figure size 864x288 with 2 Axes>"
            ]
          },
          "metadata": {
            "tags": [],
            "needs_background": "light"
          }
        }
      ]
    },
    {
      "cell_type": "markdown",
      "metadata": {
        "id": "Pk6ghVDc28-R",
        "colab_type": "text"
      },
      "source": [
        "\n",
        "---\n",
        "\n"
      ]
    }
  ]
}