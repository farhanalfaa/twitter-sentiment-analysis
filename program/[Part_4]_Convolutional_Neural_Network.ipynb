{
  "nbformat": 4,
  "nbformat_minor": 0,
  "metadata": {
    "colab": {
      "name": "[Part 4] Convolutional Neural Network.ipynb",
      "provenance": [],
      "collapsed_sections": []
    },
    "kernelspec": {
      "name": "python3",
      "display_name": "Python 3"
    }
  },
  "cells": [
    {
      "cell_type": "markdown",
      "metadata": {
        "id": "GAXplDAy1IGM",
        "colab_type": "text"
      },
      "source": [
        "# **Sentiment Classification with Convolutional Neural Networks**"
      ]
    },
    {
      "cell_type": "markdown",
      "metadata": {
        "id": "l5lZIHQfk3Ch",
        "colab_type": "text"
      },
      "source": [
        "### **[Part 1] Google Drive Mount**"
      ]
    },
    {
      "cell_type": "code",
      "metadata": {
        "id": "1vcU87LVk1V2",
        "colab_type": "code",
        "outputId": "f6ae2622-9fa9-44a6-be6d-f1b8ff4aaf82",
        "colab": {
          "base_uri": "https://localhost:8080/",
          "height": 34
        }
      },
      "source": [
        "from google.colab import drive\n",
        "drive.mount('/content/drive')"
      ],
      "execution_count": 0,
      "outputs": [
        {
          "output_type": "stream",
          "text": [
            "Drive already mounted at /content/drive; to attempt to forcibly remount, call drive.mount(\"/content/drive\", force_remount=True).\n"
          ],
          "name": "stdout"
        }
      ]
    },
    {
      "cell_type": "markdown",
      "metadata": {
        "id": "R8hg3LdJ1QYI",
        "colab_type": "text"
      },
      "source": [
        "\n",
        "\n",
        "---\n",
        "\n"
      ]
    },
    {
      "cell_type": "markdown",
      "metadata": {
        "id": "nCAM6rFSkmEg",
        "colab_type": "text"
      },
      "source": [
        "### **[Part 2] Install Library**"
      ]
    },
    {
      "cell_type": "code",
      "metadata": {
        "id": "Hgxk2Qb-3oPF",
        "colab_type": "code",
        "outputId": "b237f55b-f516-4ef2-c578-7936d75d2209",
        "colab": {
          "base_uri": "https://localhost:8080/",
          "height": 88
        }
      },
      "source": [
        "import keras\n",
        "from keras import optimizers\n",
        "from keras import backend as K\n",
        "from keras import regularizers\n",
        "from keras.models import Sequential, load_model\n",
        "from keras.layers import Dense, Activation, Dropout\n",
        "from keras.layers import Embedding, Conv1D, MaxPooling1D, GlobalMaxPooling1D \n",
        "from keras.layers.normalization import BatchNormalization\n",
        "from keras.utils import to_categorical\n",
        "from keras.preprocessing import sequence\n",
        "from keras.preprocessing.text import Tokenizer\n",
        "from keras.callbacks import EarlyStopping\n",
        "\n",
        "import pandas as pd\n",
        "import numpy as np\n",
        "import matplotlib.pyplot as plt\n",
        "import seaborn as sns\n",
        "import codecs\n",
        "\n",
        "from tqdm import tqdm\n",
        "plt.style.use('bmh')"
      ],
      "execution_count": 0,
      "outputs": [
        {
          "output_type": "stream",
          "text": [
            "Using TensorFlow backend.\n",
            "/usr/local/lib/python3.6/dist-packages/statsmodels/tools/_testing.py:19: FutureWarning: pandas.util.testing is deprecated. Use the functions in the public API at pandas.testing instead.\n",
            "  import pandas.util.testing as tm\n"
          ],
          "name": "stderr"
        }
      ]
    },
    {
      "cell_type": "markdown",
      "metadata": {
        "id": "pNRp-euD1Um4",
        "colab_type": "text"
      },
      "source": [
        "\n",
        "\n",
        "---\n",
        "\n"
      ]
    },
    {
      "cell_type": "markdown",
      "metadata": {
        "id": "hItpILGBw594",
        "colab_type": "text"
      },
      "source": [
        "### **[Part 3] Load Dataset**"
      ]
    },
    {
      "cell_type": "code",
      "metadata": {
        "id": "kYJzhK_v6tOm",
        "colab_type": "code",
        "colab": {}
      },
      "source": [
        "train = pd.read_excel('/content/drive/My Drive/Tugas_Akhir/dataset/train.xlsx', index_col=0)\n",
        "test  = pd.read_excel('/content/drive/My Drive/Tugas_Akhir/dataset/test.xlsx', index_col=0)"
      ],
      "execution_count": 0,
      "outputs": []
    },
    {
      "cell_type": "code",
      "metadata": {
        "id": "5KJPfOJi7Q5o",
        "colab_type": "code",
        "colab": {}
      },
      "source": [
        "y_train = train['label'].tolist()"
      ],
      "execution_count": 0,
      "outputs": []
    },
    {
      "cell_type": "markdown",
      "metadata": {
        "id": "2gxbTMg_1Zga",
        "colab_type": "text"
      },
      "source": [
        "\n",
        "\n",
        "---\n",
        "\n"
      ]
    },
    {
      "cell_type": "markdown",
      "metadata": {
        "id": "P-aaHJOGlpjU",
        "colab_type": "text"
      },
      "source": [
        "### **[Part 4] Load FastText Model**"
      ]
    },
    {
      "cell_type": "code",
      "metadata": {
        "id": "ADSR-jFv7VAz",
        "colab_type": "code",
        "outputId": "35d652e4-8d3a-4727-8a95-38ce4470fc38",
        "colab": {
          "base_uri": "https://localhost:8080/",
          "height": 187
        }
      },
      "source": [
        "print('\\n=============================')\n",
        "print(' > Loading Word Embeddings > ')\n",
        "print('=============================')\n",
        "\n",
        "embeddings_index = {}\n",
        "\n",
        "f = codecs.open('/content/drive/My Drive/Tugas_Akhir/model/ft_model.vec', encoding='utf-8')\n",
        "\n",
        "for line in tqdm(f):\n",
        "  values = line.rstrip().rsplit(' ')\n",
        "  word = values[0]\n",
        "  coefs = np.asarray(values[1:], dtype='float32')\n",
        "  embeddings_index[word] = coefs\n",
        "\n",
        "f.close()\n",
        "\n",
        "print('\\n\\nNumber of Word Vectors : ', len(embeddings_index))\n",
        "print('Number of Train Data   : ', train.shape[0])\n",
        "print('Number of Test Data    : ', test.shape[0])\n"
      ],
      "execution_count": 0,
      "outputs": [
        {
          "output_type": "stream",
          "text": [
            "2248it [00:00, 22473.38it/s]"
          ],
          "name": "stderr"
        },
        {
          "output_type": "stream",
          "text": [
            "\n",
            "=============================\n",
            " > Loading Word Embeddings > \n",
            "=============================\n"
          ],
          "name": "stdout"
        },
        {
          "output_type": "stream",
          "text": [
            "201428it [00:09, 20894.44it/s]"
          ],
          "name": "stderr"
        },
        {
          "output_type": "stream",
          "text": [
            "\n",
            "\n",
            "Number of Word Vectors :  201428\n",
            "Number of Train Data   :  2900\n",
            "Number of Test Data    :  682\n"
          ],
          "name": "stdout"
        },
        {
          "output_type": "stream",
          "text": [
            "\n"
          ],
          "name": "stderr"
        }
      ]
    },
    {
      "cell_type": "markdown",
      "metadata": {
        "id": "51BgUZ7p1lGu",
        "colab_type": "text"
      },
      "source": [
        "\n",
        "\n",
        "---\n",
        "\n"
      ]
    },
    {
      "cell_type": "markdown",
      "metadata": {
        "id": "AlOz5tMH1nOU",
        "colab_type": "text"
      },
      "source": [
        "### **[Part 5] Comment Length Visualization**"
      ]
    },
    {
      "cell_type": "code",
      "metadata": {
        "id": "pDJ37Wl67gu5",
        "colab_type": "code",
        "outputId": "89dac2ce-f8c0-4066-8a7b-0b1164a5fad9",
        "colab": {
          "base_uri": "https://localhost:8080/",
          "height": 279
        }
      },
      "source": [
        "label_names = ['positive', 'neutral','negative']\n",
        "\n",
        "train['doc_len'] = train['text'].apply(lambda words: len(words.split(' ')))\n",
        "\n",
        "max_seq_len = np.max(train['doc_len'])\n",
        "\n",
        "fig, ax = plt.subplots(figsize=(6,4))\n",
        "\n",
        "train['doc_len'].plot(kind='hist',\n",
        "                      density=True,\n",
        "                      alpha=0.65,\n",
        "                      bins=15,\n",
        "                      label='Frekuensi Tweet')\n",
        "\n",
        "train['doc_len'].plot(kind='kde', label='')\n",
        "\n",
        "ax.set_xlim(-5, 42)\n",
        "ax.set_xlabel(\"\")\n",
        "ax.set_ylim(0, 0.13)\n",
        "ax.set_yticks([])\n",
        "ax.set_ylabel(\"\")\n",
        "ax.set_title(\"Distribusi Kata tiap Tweet\")\n",
        "ax.grid(False)\n",
        "ax.axvline(x=max_seq_len, alpha=0.65, color='k', linestyle=':', label='Jumlah Kata Maksimum')\n",
        "ax.tick_params(left = False, bottom = False)\n",
        "for ax, spine in ax.spines.items():\n",
        "    spine.set_visible(False)\n",
        "\n",
        "plt.legend()\n",
        "plt.show()"
      ],
      "execution_count": 0,
      "outputs": [
        {
          "output_type": "display_data",
          "data": {
            "image/png": "[encoded data removed]",
            "text/plain": [
              "<Figure size 432x288 with 1 Axes>"
            ]
          },
          "metadata": {
            "tags": [],
            "needs_background": "light"
          }
        }
      ]
    },
    {
      "cell_type": "markdown",
      "metadata": {
        "id": "T5rv7_Sn1tH7",
        "colab_type": "text"
      },
      "source": [
        "\n",
        "\n",
        "---\n",
        "\n"
      ]
    },
    {
      "cell_type": "markdown",
      "metadata": {
        "id": "3zW5kUQU1v6G",
        "colab_type": "text"
      },
      "source": [
        "### **[Part 6] Tokenizing Training Data**"
      ]
    },
    {
      "cell_type": "code",
      "metadata": {
        "id": "BVqPrmgY7l17",
        "colab_type": "code",
        "outputId": "d0d92cf7-ddf5-45a8-8bac-f1ed5cffdde8",
        "colab": {
          "base_uri": "https://localhost:8080/",
          "height": 85
        }
      },
      "source": [
        "raw_docs_train = train['text'].tolist()\n",
        "raw_docs_test  = test['text'].tolist()\n",
        "\n",
        "\n",
        "MAX_NB_WORDS = 100000\n",
        "num_classes = len(label_names)\n",
        "\n",
        "print('=============================')\n",
        "print(' >> Tokenizing Input Data >> ')\n",
        "print('=============================')\n",
        "\n",
        "tokenizer = Tokenizer(num_words=MAX_NB_WORDS,\n",
        "                      lower=True,\n",
        "                      char_level=False)\n",
        "tokenizer.fit_on_texts(raw_docs_train + raw_docs_test)\n",
        "\n",
        "\n",
        "word_seq_train = tokenizer.texts_to_sequences(raw_docs_train)\n",
        "word_seq_test  = tokenizer.texts_to_sequences(raw_docs_test)\n",
        "\n",
        "word_index = tokenizer.word_index\n",
        "\n",
        "print('Dictionary Size: ', len(word_index))\n",
        "\n",
        "word_seq_train = sequence.pad_sequences(word_seq_train, maxlen = max_seq_len)\n",
        "word_seq_test  = sequence.pad_sequences(word_seq_test, maxlen = max_seq_len)\n",
        "\n"
      ],
      "execution_count": 0,
      "outputs": [
        {
          "output_type": "stream",
          "text": [
            "=============================\n",
            " >> Tokenizing Input Data >> \n",
            "=============================\n",
            "Dictionary Size:  7495\n"
          ],
          "name": "stdout"
        }
      ]
    },
    {
      "cell_type": "markdown",
      "metadata": {
        "id": "aLqYW2Mp125j",
        "colab_type": "text"
      },
      "source": [
        "\n",
        "\n",
        "---\n",
        "\n"
      ]
    },
    {
      "cell_type": "markdown",
      "metadata": {
        "id": "Fqdwo_2o13_Y",
        "colab_type": "text"
      },
      "source": [
        "### **[Part 7] Hyperparameters**"
      ]
    },
    {
      "cell_type": "code",
      "metadata": {
        "id": "C7hu5p0H7oin",
        "colab_type": "code",
        "colab": {}
      },
      "source": [
        "batch_size = 256\n",
        "num_epochs = 16\n",
        "\n",
        "num_filters = 64\n",
        "embed_dim   = 100\n",
        "weight_decay = 1e-4"
      ],
      "execution_count": 0,
      "outputs": []
    },
    {
      "cell_type": "markdown",
      "metadata": {
        "id": "XZHQydcb1-t9",
        "colab_type": "text"
      },
      "source": [
        "\n",
        "\n",
        "---\n",
        "\n"
      ]
    },
    {
      "cell_type": "markdown",
      "metadata": {
        "id": "CUn_Okgy1_rx",
        "colab_type": "text"
      },
      "source": [
        "### **[Part 8] Embedding Matrix**"
      ]
    },
    {
      "cell_type": "code",
      "metadata": {
        "id": "OK5Kglki7q24",
        "colab_type": "code",
        "outputId": "9d8cfc4d-4af3-492e-b4c2-32bb1e7deda8",
        "colab": {
          "base_uri": "https://localhost:8080/",
          "height": 102
        }
      },
      "source": [
        "print('==================================')\n",
        "print(' >> Preparing Embedding Matrix >> ')\n",
        "print('==================================')\n",
        "\n",
        "words_not_found = []\n",
        "\n",
        "nb_words = min(MAX_NB_WORDS, len(word_index))\n",
        "\n",
        "embedding_matrix = np.zeros((nb_words+1, embed_dim))\n",
        "\n",
        "for word, i in word_index.items():\n",
        "  if i >= nb_words:\n",
        "    continue\n",
        "  embedding_vector = embeddings_index.get(word)\n",
        "  if (embedding_vector is not None) and len(embedding_vector) > 0:\n",
        "    embedding_matrix[i] = embedding_vector\n",
        "  else:\n",
        "    words_not_found.append(word)\n",
        "\n",
        "print('Number of Null Word Embeddings : %d' % np.sum(np.sum(embedding_matrix, axis=1) == 0))\n",
        "print(\"Sample Words Not Found         :\", np.random.choice(words_not_found, 5))"
      ],
      "execution_count": 0,
      "outputs": [
        {
          "output_type": "stream",
          "text": [
            "==================================\n",
            " >> Preparing Embedding Matrix >> \n",
            "==================================\n",
            "Number of Null Word Embeddings : 323\n",
            "Sample Words Not Found         : ['pnya' 'diajajah' 'apaa' 'rangkul' 'krng']\n"
          ],
          "name": "stdout"
        }
      ]
    },
    {
      "cell_type": "markdown",
      "metadata": {
        "id": "nE8EPkbi2EA0",
        "colab_type": "text"
      },
      "source": [
        "\n",
        "\n",
        "---\n",
        "\n"
      ]
    },
    {
      "cell_type": "markdown",
      "metadata": {
        "id": "EaYrj0N82cUW",
        "colab_type": "text"
      },
      "source": [
        "### **[Part 9] Convert into Categorical Data**"
      ]
    },
    {
      "cell_type": "code",
      "metadata": {
        "id": "mIKf7yGv70T_",
        "colab_type": "code",
        "colab": {}
      },
      "source": [
        "target = []\n",
        "\n",
        "for i in train['label']:\n",
        "  if i == -1:\n",
        "    target.append(0)\n",
        "  elif i == 0:\n",
        "    target.append(1)\n",
        "  elif i == 1:\n",
        "    target.append(2)\n",
        "\n",
        "train['new_label'] = target\n",
        "\n",
        "train_labels = to_categorical(train['new_label'])"
      ],
      "execution_count": 0,
      "outputs": []
    },
    {
      "cell_type": "markdown",
      "metadata": {
        "id": "BdxQBuDk2jDO",
        "colab_type": "text"
      },
      "source": [
        "\n",
        "---\n",
        "\n"
      ]
    },
    {
      "cell_type": "markdown",
      "metadata": {
        "id": "uUvxboZ22l8D",
        "colab_type": "text"
      },
      "source": [
        "### **[Part 10] Early Stopping for Avoid Overfitting Model**"
      ]
    },
    {
      "cell_type": "code",
      "metadata": {
        "id": "xBVOJ9m87wsd",
        "colab_type": "code",
        "colab": {}
      },
      "source": [
        "early_stopping = EarlyStopping(monitor='val_loss',\n",
        "                               min_delta=0.01,\n",
        "                               patience=3,\n",
        "                               verbose=1)\n",
        "\n",
        "callbacks_list = [early_stopping]"
      ],
      "execution_count": 0,
      "outputs": []
    },
    {
      "cell_type": "markdown",
      "metadata": {
        "id": "COEH7SWf2tVc",
        "colab_type": "text"
      },
      "source": [
        "\n",
        "---\n",
        "\n"
      ]
    },
    {
      "cell_type": "markdown",
      "metadata": {
        "id": "NWxdVtxC2uSU",
        "colab_type": "text"
      },
      "source": [
        "### **[Part 11] Conv. Neural Network Training**"
      ]
    },
    {
      "cell_type": "code",
      "metadata": {
        "id": "eFHAMyfM7ucF",
        "colab_type": "code",
        "outputId": "806c2b16-00a2-4e31-d5f3-37ef216f902d",
        "colab": {
          "base_uri": "https://localhost:8080/",
          "height": 544
        }
      },
      "source": [
        "print('=============================')\n",
        "print('    >>> Training CNN >>>     ')\n",
        "print('=============================')\n",
        "\n",
        "model = Sequential(name='Final Model')\n",
        "model.add(Embedding(nb_words+1, embed_dim,\n",
        "                    weights=[embedding_matrix],\n",
        "                    input_length=max_seq_len,\n",
        "                    trainable=False))\n",
        "model.add(Conv1D(num_filters, 7, activation='relu', padding='same'))\n",
        "model.add(MaxPooling1D(2))\n",
        "model.add(BatchNormalization())\n",
        "model.add(Conv1D(num_filters, 7, activation='relu', padding='same'))\n",
        "model.add(GlobalMaxPooling1D())\n",
        "model.add(BatchNormalization())\n",
        "model.add(Dropout(0.5))\n",
        "model.add(Dense(32, activation='relu', kernel_regularizer=regularizers.l2(weight_decay)))\n",
        "model.add(Dense(num_classes, activation='softmax'))\n",
        "\n",
        "adam = optimizers.Adam(lr = 0.01,\n",
        "                      beta_1 = 0.9,\n",
        "                      beta_2 = 0.999,\n",
        "                      epsilon=1e-08,\n",
        "                      decay=0.0)\n",
        "\n",
        "model.compile(loss='categorical_crossentropy', optimizer='adam', metrics=['accuracy'])\n",
        "model.summary()"
      ],
      "execution_count": 0,
      "outputs": [
        {
          "output_type": "stream",
          "text": [
            "=============================\n",
            "    >>> Training CNN >>>     \n",
            "=============================\n",
            "Model: \"Final Model\"\n",
            "_________________________________________________________________\n",
            "Layer (type)                 Output Shape              Param #   \n",
            "=================================================================\n",
            "embedding_1 (Embedding)      (None, 41, 100)           749600    \n",
            "_________________________________________________________________\n",
            "conv1d_1 (Conv1D)            (None, 41, 64)            44864     \n",
            "_________________________________________________________________\n",
            "max_pooling1d_1 (MaxPooling1 (None, 20, 64)            0         \n",
            "_________________________________________________________________\n",
            "batch_normalization_1 (Batch (None, 20, 64)            256       \n",
            "_________________________________________________________________\n",
            "conv1d_2 (Conv1D)            (None, 20, 64)            28736     \n",
            "_________________________________________________________________\n",
            "global_max_pooling1d_1 (Glob (None, 64)                0         \n",
            "_________________________________________________________________\n",
            "batch_normalization_2 (Batch (None, 64)                256       \n",
            "_________________________________________________________________\n",
            "dropout_1 (Dropout)          (None, 64)                0         \n",
            "_________________________________________________________________\n",
            "dense_1 (Dense)              (None, 32)                2080      \n",
            "_________________________________________________________________\n",
            "dense_2 (Dense)              (None, 3)                 99        \n",
            "=================================================================\n",
            "Total params: 825,891\n",
            "Trainable params: 76,035\n",
            "Non-trainable params: 749,856\n",
            "_________________________________________________________________\n"
          ],
          "name": "stdout"
        }
      ]
    },
    {
      "cell_type": "code",
      "metadata": {
        "id": "KSUK-vef77FW",
        "colab_type": "code",
        "outputId": "aaed216a-f76a-4549-fedb-e5ac0a8f5a4b",
        "colab": {
          "base_uri": "https://localhost:8080/",
          "height": 527
        }
      },
      "source": [
        "hist = model.fit(word_seq_train,\n",
        "                 train_labels,\n",
        "                 batch_size = batch_size,\n",
        "                 epochs = num_epochs,\n",
        "                 validation_split=0.2,\n",
        "                 callbacks = callbacks_list,\n",
        "                 shuffle=True,\n",
        "                 verbose=2)"
      ],
      "execution_count": 0,
      "outputs": [
        {
          "output_type": "stream",
          "text": [
            "Train on 2320 samples, validate on 580 samples\n",
            "Epoch 1/16\n",
            " - 1s - loss: 0.8974 - accuracy: 0.6103 - val_loss: 0.5863 - val_accuracy: 0.8052\n",
            "Epoch 2/16\n",
            " - 1s - loss: 0.3441 - accuracy: 0.8944 - val_loss: 0.3858 - val_accuracy: 0.8897\n",
            "Epoch 3/16\n",
            " - 1s - loss: 0.2009 - accuracy: 0.9453 - val_loss: 0.2556 - val_accuracy: 0.9224\n",
            "Epoch 4/16\n",
            " - 1s - loss: 0.1476 - accuracy: 0.9642 - val_loss: 0.1926 - val_accuracy: 0.9500\n",
            "Epoch 5/16\n",
            " - 1s - loss: 0.1123 - accuracy: 0.9703 - val_loss: 0.1568 - val_accuracy: 0.9586\n",
            "Epoch 6/16\n",
            " - 1s - loss: 0.0858 - accuracy: 0.9815 - val_loss: 0.1327 - val_accuracy: 0.9603\n",
            "Epoch 7/16\n",
            " - 1s - loss: 0.0632 - accuracy: 0.9897 - val_loss: 0.1118 - val_accuracy: 0.9638\n",
            "Epoch 8/16\n",
            " - 1s - loss: 0.0659 - accuracy: 0.9866 - val_loss: 0.1151 - val_accuracy: 0.9672\n",
            "Epoch 9/16\n",
            " - 1s - loss: 0.0550 - accuracy: 0.9888 - val_loss: 0.1078 - val_accuracy: 0.9655\n",
            "Epoch 10/16\n",
            " - 1s - loss: 0.0529 - accuracy: 0.9892 - val_loss: 0.0814 - val_accuracy: 0.9759\n",
            "Epoch 11/16\n",
            " - 1s - loss: 0.0427 - accuracy: 0.9931 - val_loss: 0.0681 - val_accuracy: 0.9810\n",
            "Epoch 12/16\n",
            " - 1s - loss: 0.0386 - accuracy: 0.9935 - val_loss: 0.0644 - val_accuracy: 0.9776\n",
            "Epoch 13/16\n",
            " - 1s - loss: 0.0384 - accuracy: 0.9927 - val_loss: 0.0648 - val_accuracy: 0.9793\n",
            "Epoch 14/16\n",
            " - 1s - loss: 0.0396 - accuracy: 0.9909 - val_loss: 0.0588 - val_accuracy: 0.9828\n",
            "Epoch 00014: early stopping\n"
          ],
          "name": "stdout"
        }
      ]
    },
    {
      "cell_type": "markdown",
      "metadata": {
        "id": "bs9zRD2l26eV",
        "colab_type": "text"
      },
      "source": [
        "\n",
        "---\n",
        "\n"
      ]
    },
    {
      "cell_type": "markdown",
      "metadata": {
        "id": "K4vFYr2_9LGh",
        "colab_type": "text"
      },
      "source": [
        "### **[Part 12] Loss and Accuracy Visualization**"
      ]
    },
    {
      "cell_type": "code",
      "metadata": {
        "id": "cFA9S7ae8YoQ",
        "colab_type": "code",
        "outputId": "26b52150-c6a0-4076-b01b-6bc2c8d1c946",
        "colab": {
          "base_uri": "https://localhost:8080/",
          "height": 296
        }
      },
      "source": [
        "fig, (ax1, ax2) = plt.subplots(1, 2, figsize=(12, 4))\n",
        "\n",
        "ax1.plot(hist.history['loss'], lw=2.0, color='b', alpha=0.65, label='train')\n",
        "ax1.plot(hist.history['val_loss'], lw=2.0, color='r', alpha=0.65, label='val')\n",
        "ax1.set_title('Loss Visualization')\n",
        "ax1.set_xlabel('Epochs')\n",
        "ax1.set_ylabel('Cross-Entropy Loss')\n",
        "ax1.legend(loc='upper right')\n",
        "ax2.plot(hist.history['accuracy'], lw=2.0, color='b', alpha=0.65, label='train')\n",
        "ax2.plot(hist.history['val_accuracy'], lw=2.0, color='r', alpha=0.65, label='val')\n",
        "ax2.set_title('Accuracy Visualization')\n",
        "ax2.set_xlabel('Epochs')\n",
        "ax2.set_ylabel('Accuracy')\n",
        "ax2.legend(loc='lower right')\n",
        "\n",
        "ax1.grid(False)\n",
        "ax2.grid(False)\n",
        "\n",
        "ax2.set_ylim(-0.1, 1.1)\n",
        "plt.show()"
      ],
      "execution_count": 0,
      "outputs": [
        {
          "output_type": "display_data",
          "data": {
            "image/png": "[encoded data removed]",
            "text/plain": [
              "<Figure size 864x288 with 2 Axes>"
            ]
          },
          "metadata": {
            "tags": [],
            "needs_background": "light"
          }
        }
      ]
    },
    {
      "cell_type": "markdown",
      "metadata": {
        "id": "BkPz693gJJ7o",
        "colab_type": "text"
      },
      "source": [
        "\n",
        "\n",
        "---\n",
        "\n"
      ]
    },
    {
      "cell_type": "markdown",
      "metadata": {
        "id": "n8rWNi3cJHAr",
        "colab_type": "text"
      },
      "source": [
        "### **[Part 13] Save Model**"
      ]
    },
    {
      "cell_type": "code",
      "metadata": {
        "id": "0G8oWm2JJJlk",
        "colab_type": "code",
        "outputId": "777f887a-b9c3-424c-df40-4fd082d06bd6",
        "colab": {
          "base_uri": "https://localhost:8080/",
          "height": 34
        }
      },
      "source": [
        "model.save(\"model.h5\")\n",
        "print(\"Saved model to disk\")"
      ],
      "execution_count": 0,
      "outputs": [
        {
          "output_type": "stream",
          "text": [
            "Saved model to disk\n"
          ],
          "name": "stdout"
        }
      ]
    },
    {
      "cell_type": "code",
      "metadata": {
        "id": "_iOaBjYIL73E",
        "colab_type": "code",
        "outputId": "cb314b09-dc4c-4523-d67f-e2806f6547fa",
        "colab": {
          "base_uri": "https://localhost:8080/",
          "height": 34
        }
      },
      "source": [
        "import pickle\n",
        "\n",
        "with open('tokenizer.pickle', 'wb') as handle:\n",
        "    pickle.dump(tokenizer, handle, protocol=pickle.HIGHEST_PROTOCOL)\n",
        "\n",
        "print(\"Saved tokenizer model to disk\")"
      ],
      "execution_count": 0,
      "outputs": [
        {
          "output_type": "stream",
          "text": [
            "Saved tokenizer model to disk\n"
          ],
          "name": "stdout"
        }
      ]
    },
    {
      "cell_type": "code",
      "metadata": {
        "id": "0JWMEgV3Jqg3",
        "colab_type": "code",
        "outputId": "25de764b-80b0-426d-f8f6-5f36fd3d838c",
        "colab": {
          "base_uri": "https://localhost:8080/",
          "height": 34
        }
      },
      "source": [
        "!cp model.h5 '/content/drive/My Drive/Tugas_Akhir/model/'\n",
        "!cp tokenizer.pickle '/content/drive/My Drive/Tugas_Akhir/model/'\n",
        "\n",
        "print(\"Uploaded model to Google Drive\")"
      ],
      "execution_count": 0,
      "outputs": [
        {
          "output_type": "stream",
          "text": [
            "Uploaded model to Google Drive\n"
          ],
          "name": "stdout"
        }
      ]
    },
    {
      "cell_type": "markdown",
      "metadata": {
        "id": "Pk6ghVDc28-R",
        "colab_type": "text"
      },
      "source": [
        "\n",
        "---\n",
        "\n"
      ]
    }
  ]
}